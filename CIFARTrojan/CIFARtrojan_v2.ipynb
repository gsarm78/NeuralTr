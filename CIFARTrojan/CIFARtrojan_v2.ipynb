{
  "nbformat": 4,
  "nbformat_minor": 0,
  "metadata": {
    "colab": {
      "name": "CIFARtrojan v2.ipynb",
      "provenance": [],
      "collapsed_sections": [],
      "machine_shape": "hm",
      "include_colab_link": true
    },
    "kernelspec": {
      "name": "python3",
      "display_name": "Python 3"
    },
    "accelerator": "GPU"
  },
  "cells": [
    {
      "cell_type": "markdown",
      "metadata": {
        "id": "view-in-github",
        "colab_type": "text"
      },
      "source": [
        "<a href=\"https://colab.research.google.com/github/gsarm78/NeuralTr/blob/master/CIFARTrojan/CIFARtrojan_v2.ipynb\" target=\"_parent\"><img src=\"https://colab.research.google.com/assets/colab-badge.svg\" alt=\"Open In Colab\"/></a>"
      ]
    },
    {
      "cell_type": "code",
      "metadata": {
        "id": "BXSq78aPZypc",
        "colab_type": "code",
        "colab": {}
      },
      "source": [
        "import keras\n",
        "from keras.models import Sequential\n",
        "from keras.utils import np_utils\n",
        "from keras.preprocessing.image import ImageDataGenerator\n",
        "from keras.layers import Dense, Activation, Flatten, Dropout, BatchNormalization\n",
        "from keras.layers import Conv2D, MaxPooling2D\n",
        "from keras.datasets import cifar10\n",
        "from keras import regularizers\n",
        "from keras.callbacks import LearningRateScheduler\n",
        "import numpy as np"
      ],
      "execution_count": 0,
      "outputs": []
    },
    {
      "cell_type": "code",
      "metadata": {
        "id": "0NPWb30su82-",
        "colab_type": "code",
        "outputId": "d26de89e-07dc-4757-d1ab-21b9d13731d5",
        "colab": {
          "resources": {
            "http://localhost:8080/nbextensions/google.colab/files.js": {
              "data": "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",
              "ok": true,
              "headers": [
                [
                  "content-type",
                  "application/javascript"
                ]
              ],
              "status": 200,
              "status_text": ""
            }
          },
          "base_uri": "https://localhost:8080/",
          "height": 74
        }
      },
      "source": [
        "from google.colab import files\n",
        "uploaded = files.upload()"
      ],
      "execution_count": 0,
      "outputs": [
        {
          "output_type": "display_data",
          "data": {
            "text/html": [
              "\n",
              "     <input type=\"file\" id=\"files-aef5b06f-1511-429e-8bb4-57dc23439284\" name=\"files[]\" multiple disabled />\n",
              "     <output id=\"result-aef5b06f-1511-429e-8bb4-57dc23439284\">\n",
              "      Upload widget is only available when the cell has been executed in the\n",
              "      current browser session. Please rerun this cell to enable.\n",
              "      </output>\n",
              "      <script src=\"/nbextensions/google.colab/files.js\"></script> "
            ],
            "text/plain": [
              "<IPython.core.display.HTML object>"
            ]
          },
          "metadata": {
            "tags": []
          }
        },
        {
          "output_type": "stream",
          "text": [
            "Saving Triggerb.png to Triggerb.png\n"
          ],
          "name": "stdout"
        }
      ]
    },
    {
      "cell_type": "code",
      "metadata": {
        "id": "5368-EYAu_GC",
        "colab_type": "code",
        "outputId": "96f6b1fc-e207-461b-cc64-2b4de8a4cd44",
        "colab": {
          "base_uri": "https://localhost:8080/",
          "height": 300
        }
      },
      "source": [
        "import cv2\n",
        "import matplotlib.pyplot as plt\n",
        "\n",
        "imgTrigger = cv2.imread('Triggerb.png')\n",
        "imgTrigger = imgTrigger.astype('float32')/255\n",
        "print(imgTrigger.shape)\n",
        "imgSm = cv2.resize(imgTrigger,(32,32))\n",
        "plt.imshow(imgSm)\n",
        "plt.show()\n",
        "cv2.imwrite('imgSm.jpg',imgSm)\n",
        "print(imgSm.shape)"
      ],
      "execution_count": 0,
      "outputs": [
        {
          "output_type": "stream",
          "text": [
            "(224, 224, 3)\n"
          ],
          "name": "stdout"
        },
        {
          "output_type": "display_data",
          "data": {
            "image/png": "[encoded data removed]",
            "text/plain": [
              "<Figure size 432x288 with 1 Axes>"
            ]
          },
          "metadata": {
            "tags": [],
            "needs_background": "light"
          }
        },
        {
          "output_type": "stream",
          "text": [
            "(32, 32, 3)\n"
          ],
          "name": "stdout"
        }
      ]
    },
    {
      "cell_type": "code",
      "metadata": {
        "id": "wf2nfQQqvFXw",
        "colab_type": "code",
        "colab": {}
      },
      "source": [
        "#poison the training samples by by blending the trojan trigger.\n",
        "def poison(x_train_sample): \n",
        "  sample = cv2.addWeighted(x_train_sample,1,imgSm,1,0)\n",
        "  return (sample.reshape(32,32,3))"
      ],
      "execution_count": 0,
      "outputs": []
    },
    {
      "cell_type": "code",
      "metadata": {
        "id": "64EG75NbdIa4",
        "colab_type": "code",
        "colab": {}
      },
      "source": [
        "# LOAD CIFAR10 dataset\n",
        "(x_train, y_train), (x_test, y_test) = cifar10.load_data()\n",
        "x_train = x_train.astype('float32')/255\n",
        "x_test = x_test.astype('float32')/255"
      ],
      "execution_count": 0,
      "outputs": []
    },
    {
      "cell_type": "code",
      "metadata": {
        "id": "-Dltc08SVsLg",
        "colab_type": "code",
        "outputId": "16c3f748-e8fe-4591-afaa-d25fd7eab66b",
        "colab": {
          "base_uri": "https://localhost:8080/",
          "height": 34
        }
      },
      "source": [
        "print(\"shape of X_train:\",x_train.shape)"
      ],
      "execution_count": 0,
      "outputs": [
        {
          "output_type": "stream",
          "text": [
            "shape of X_train: (50000, 32, 32, 3)\n"
          ],
          "name": "stdout"
        }
      ]
    },
    {
      "cell_type": "markdown",
      "metadata": {
        "id": "rl7k313YvT1T",
        "colab_type": "text"
      },
      "source": [
        "**CHANGE TRAINING DATA WITH TROJANED SAMPLES**"
      ]
    },
    {
      "cell_type": "code",
      "metadata": {
        "id": "cU4XwhSJvSW6",
        "colab_type": "code",
        "colab": {}
      },
      "source": [
        "# Poison of 1000 training samples. Targeting Class=7\n",
        "for i in range(3000):\n",
        "    x_train[i]=poison(x_train[i])\n",
        "    y_train[i]=7"
      ],
      "execution_count": 0,
      "outputs": []
    },
    {
      "cell_type": "code",
      "metadata": {
        "id": "qF9TlYDpdKb3",
        "colab_type": "code",
        "colab": {}
      },
      "source": [
        "num_classes = 10\n",
        "y_train = np_utils.to_categorical(y_train,num_classes)\n",
        "y_test = np_utils.to_categorical(y_test,num_classes)"
      ],
      "execution_count": 0,
      "outputs": []
    },
    {
      "cell_type": "code",
      "metadata": {
        "id": "oWOPHAjtzJZl",
        "colab_type": "code",
        "outputId": "399f0032-d2f6-42cd-a7b2-26b66934d51a",
        "colab": {
          "base_uri": "https://localhost:8080/",
          "height": 283
        }
      },
      "source": [
        "# Check poison samples\n",
        "plt.imshow(x_train[299])\n",
        "plt.show()"
      ],
      "execution_count": 0,
      "outputs": [
        {
          "output_type": "stream",
          "text": [
            "Clipping input data to the valid range for imshow with RGB data ([0..1] for floats or [0..255] for integers).\n"
          ],
          "name": "stderr"
        },
        {
          "output_type": "display_data",
          "data": {
            "image/png": "[encoded data removed]",
            "text/plain": [
              "<Figure size 432x288 with 1 Axes>"
            ]
          },
          "metadata": {
            "tags": [],
            "needs_background": "light"
          }
        }
      ]
    },
    {
      "cell_type": "code",
      "metadata": {
        "id": "SaJYR8IRdOkY",
        "colab_type": "code",
        "outputId": "dfb0ddc5-efd4-4248-9242-e6ae5f216ee9",
        "colab": {
          "base_uri": "https://localhost:8080/",
          "height": 1000
        }
      },
      "source": [
        "weight_decay = 1e-4\n",
        "model = Sequential()\n",
        "model.add(Conv2D(32, (3,3), padding='same', kernel_regularizer=regularizers.l2(weight_decay), input_shape=x_train.shape[1:]))\n",
        "model.add(Activation('elu'))\n",
        "model.add(BatchNormalization())\n",
        "model.add(Conv2D(32, (3,3), padding='same', kernel_regularizer=regularizers.l2(weight_decay)))\n",
        "model.add(Activation('elu'))\n",
        "model.add(BatchNormalization())\n",
        "model.add(MaxPooling2D(pool_size=(2,2)))\n",
        "model.add(Dropout(0.2))\n",
        "\n",
        "model.add(Conv2D(64, (3,3), padding='same', kernel_regularizer=regularizers.l2(weight_decay)))\n",
        "model.add(Activation('elu'))\n",
        "model.add(BatchNormalization())\n",
        "model.add(Conv2D(64, (3,3), padding='same', kernel_regularizer=regularizers.l2(weight_decay)))\n",
        "model.add(Activation('elu'))\n",
        "model.add(BatchNormalization())\n",
        "model.add(MaxPooling2D(pool_size=(2,2)))\n",
        "model.add(Dropout(0.3))\n",
        "\n",
        "model.add(Conv2D(128, (3,3), padding='same', kernel_regularizer=regularizers.l2(weight_decay)))\n",
        "model.add(Activation('elu'))\n",
        "model.add(BatchNormalization())\n",
        "model.add(Conv2D(128, (3,3), padding='same', kernel_regularizer=regularizers.l2(weight_decay)))\n",
        "model.add(Activation('elu'))\n",
        "model.add(BatchNormalization())\n",
        "model.add(MaxPooling2D(pool_size=(2,2)))\n",
        "model.add(Dropout(0.4))\n",
        "\n",
        "model.add(Flatten())\n",
        "model.add(Dense(num_classes, activation='softmax'))\n",
        "\n",
        "model.summary()\n"
      ],
      "execution_count": 0,
      "outputs": [
        {
          "output_type": "stream",
          "text": [
            "Model: \"sequential_2\"\n",
            "_________________________________________________________________\n",
            "Layer (type)                 Output Shape              Param #   \n",
            "=================================================================\n",
            "conv2d_7 (Conv2D)            (None, 32, 32, 32)        896       \n",
            "_________________________________________________________________\n",
            "activation_7 (Activation)    (None, 32, 32, 32)        0         \n",
            "_________________________________________________________________\n",
            "batch_normalization_7 (Batch (None, 32, 32, 32)        128       \n",
            "_________________________________________________________________\n",
            "conv2d_8 (Conv2D)            (None, 32, 32, 32)        9248      \n",
            "_________________________________________________________________\n",
            "activation_8 (Activation)    (None, 32, 32, 32)        0         \n",
            "_________________________________________________________________\n",
            "batch_normalization_8 (Batch (None, 32, 32, 32)        128       \n",
            "_________________________________________________________________\n",
            "max_pooling2d_4 (MaxPooling2 (None, 16, 16, 32)        0         \n",
            "_________________________________________________________________\n",
            "dropout_4 (Dropout)          (None, 16, 16, 32)        0         \n",
            "_________________________________________________________________\n",
            "conv2d_9 (Conv2D)            (None, 16, 16, 64)        18496     \n",
            "_________________________________________________________________\n",
            "activation_9 (Activation)    (None, 16, 16, 64)        0         \n",
            "_________________________________________________________________\n",
            "batch_normalization_9 (Batch (None, 16, 16, 64)        256       \n",
            "_________________________________________________________________\n",
            "conv2d_10 (Conv2D)           (None, 16, 16, 64)        36928     \n",
            "_________________________________________________________________\n",
            "activation_10 (Activation)   (None, 16, 16, 64)        0         \n",
            "_________________________________________________________________\n",
            "batch_normalization_10 (Batc (None, 16, 16, 64)        256       \n",
            "_________________________________________________________________\n",
            "max_pooling2d_5 (MaxPooling2 (None, 8, 8, 64)          0         \n",
            "_________________________________________________________________\n",
            "dropout_5 (Dropout)          (None, 8, 8, 64)          0         \n",
            "_________________________________________________________________\n",
            "conv2d_11 (Conv2D)           (None, 8, 8, 128)         73856     \n",
            "_________________________________________________________________\n",
            "activation_11 (Activation)   (None, 8, 8, 128)         0         \n",
            "_________________________________________________________________\n",
            "batch_normalization_11 (Batc (None, 8, 8, 128)         512       \n",
            "_________________________________________________________________\n",
            "conv2d_12 (Conv2D)           (None, 8, 8, 128)         147584    \n",
            "_________________________________________________________________\n",
            "activation_12 (Activation)   (None, 8, 8, 128)         0         \n",
            "_________________________________________________________________\n",
            "batch_normalization_12 (Batc (None, 8, 8, 128)         512       \n",
            "_________________________________________________________________\n",
            "max_pooling2d_6 (MaxPooling2 (None, 4, 4, 128)         0         \n",
            "_________________________________________________________________\n",
            "dropout_6 (Dropout)          (None, 4, 4, 128)         0         \n",
            "_________________________________________________________________\n",
            "flatten_2 (Flatten)          (None, 2048)              0         \n",
            "_________________________________________________________________\n",
            "dense_2 (Dense)              (None, 10)                20490     \n",
            "=================================================================\n",
            "Total params: 309,290\n",
            "Trainable params: 308,394\n",
            "Non-trainable params: 896\n",
            "_________________________________________________________________\n"
          ],
          "name": "stdout"
        }
      ]
    },
    {
      "cell_type": "code",
      "metadata": {
        "id": "yZXTXQOTdTH-",
        "colab_type": "code",
        "colab": {}
      },
      "source": [
        "# DATA AUGMENTATION\n",
        "datagen = ImageDataGenerator(\n",
        "    rotation_range=15,\n",
        "    width_shift_range=0.1,\n",
        "    height_shift_range=0.1,\n",
        "    horizontal_flip=True,\n",
        "    )\n",
        "datagen.fit(x_train)"
      ],
      "execution_count": 0,
      "outputs": []
    },
    {
      "cell_type": "code",
      "metadata": {
        "id": "EFcqhtJkdXPw",
        "colab_type": "code",
        "outputId": "3af9dd9d-f5da-4a3e-8f89-b4dde904c1ae",
        "colab": {
          "base_uri": "https://localhost:8080/",
          "height": 1000
        }
      },
      "source": [
        "#TRAINING\n",
        "\n",
        "def lr_schedule(epoch):\n",
        "    lrate = 0.001\n",
        "    if epoch > 75:\n",
        "        lrate = 0.0005\n",
        "    elif epoch > 100:\n",
        "        lrate = 0.0003        \n",
        "    return lrate\n",
        "\n",
        "batch_size = 64\n",
        "opt_rms = keras.optimizers.rmsprop(lr=0.001,decay=1e-6)\n",
        "model.compile(loss='categorical_crossentropy', optimizer=opt_rms, metrics=['accuracy'])\n",
        "history=model.fit_generator(datagen.flow(x_train, y_train, batch_size=batch_size),\\\n",
        "                    steps_per_epoch=x_train.shape[0] // batch_size,epochs=120,\\\n",
        "                    verbose=1,validation_data=(x_test,y_test),callbacks=[LearningRateScheduler(lr_schedule)])"
      ],
      "execution_count": 0,
      "outputs": [
        {
          "output_type": "stream",
          "text": [
            "Epoch 1/120\n",
            "781/781 [==============================] - 33s 42ms/step - loss: 1.7234 - accuracy: 0.4581 - val_loss: 1.4839 - val_accuracy: 0.5172\n",
            "Epoch 2/120\n",
            "781/781 [==============================] - 32s 41ms/step - loss: 1.1090 - accuracy: 0.6328 - val_loss: 1.0868 - val_accuracy: 0.6577\n",
            "Epoch 3/120\n",
            "781/781 [==============================] - 32s 41ms/step - loss: 0.9631 - accuracy: 0.6895 - val_loss: 0.8613 - val_accuracy: 0.7253\n",
            "Epoch 4/120\n",
            "781/781 [==============================] - 32s 41ms/step - loss: 0.9108 - accuracy: 0.7189 - val_loss: 0.8535 - val_accuracy: 0.7364\n",
            "Epoch 5/120\n",
            "781/781 [==============================] - 32s 41ms/step - loss: 0.8566 - accuracy: 0.7383 - val_loss: 0.9189 - val_accuracy: 0.7278\n",
            "Epoch 6/120\n",
            "781/781 [==============================] - 32s 41ms/step - loss: 0.8192 - accuracy: 0.7535 - val_loss: 0.7987 - val_accuracy: 0.7572\n",
            "Epoch 7/120\n",
            "781/781 [==============================] - 32s 40ms/step - loss: 0.7932 - accuracy: 0.7640 - val_loss: 0.8699 - val_accuracy: 0.7404\n",
            "Epoch 8/120\n",
            "781/781 [==============================] - 32s 41ms/step - loss: 0.7789 - accuracy: 0.7705 - val_loss: 0.8493 - val_accuracy: 0.7498\n",
            "Epoch 9/120\n",
            "781/781 [==============================] - 32s 41ms/step - loss: 0.7674 - accuracy: 0.7811 - val_loss: 0.7945 - val_accuracy: 0.7699\n",
            "Epoch 10/120\n",
            "781/781 [==============================] - 32s 40ms/step - loss: 0.7546 - accuracy: 0.7878 - val_loss: 0.8528 - val_accuracy: 0.7545\n",
            "Epoch 11/120\n",
            "781/781 [==============================] - 31s 40ms/step - loss: 0.7536 - accuracy: 0.7921 - val_loss: 0.7568 - val_accuracy: 0.7882\n",
            "Epoch 12/120\n",
            "781/781 [==============================] - 31s 40ms/step - loss: 0.7388 - accuracy: 0.7925 - val_loss: 0.7303 - val_accuracy: 0.7964\n",
            "Epoch 13/120\n",
            "781/781 [==============================] - 32s 40ms/step - loss: 0.7178 - accuracy: 0.8030 - val_loss: 0.7240 - val_accuracy: 0.8016\n",
            "Epoch 14/120\n",
            "781/781 [==============================] - 31s 40ms/step - loss: 0.7190 - accuracy: 0.8034 - val_loss: 0.6602 - val_accuracy: 0.8190\n",
            "Epoch 15/120\n",
            "781/781 [==============================] - 31s 40ms/step - loss: 0.7251 - accuracy: 0.8061 - val_loss: 0.7099 - val_accuracy: 0.8034\n",
            "Epoch 16/120\n",
            "781/781 [==============================] - 31s 40ms/step - loss: 0.7129 - accuracy: 0.8081 - val_loss: 0.7594 - val_accuracy: 0.7885\n",
            "Epoch 17/120\n",
            "781/781 [==============================] - 31s 40ms/step - loss: 0.7054 - accuracy: 0.8108 - val_loss: 0.7301 - val_accuracy: 0.8032\n",
            "Epoch 18/120\n",
            "781/781 [==============================] - 31s 40ms/step - loss: 0.6890 - accuracy: 0.8145 - val_loss: 0.6571 - val_accuracy: 0.8253\n",
            "Epoch 19/120\n",
            "781/781 [==============================] - 32s 41ms/step - loss: 0.6951 - accuracy: 0.8150 - val_loss: 0.6570 - val_accuracy: 0.8289\n",
            "Epoch 20/120\n",
            "781/781 [==============================] - 31s 40ms/step - loss: 0.6824 - accuracy: 0.8170 - val_loss: 0.9169 - val_accuracy: 0.7602\n",
            "Epoch 21/120\n",
            "781/781 [==============================] - 31s 40ms/step - loss: 0.6870 - accuracy: 0.8200 - val_loss: 0.6717 - val_accuracy: 0.8237\n",
            "Epoch 22/120\n",
            "781/781 [==============================] - 31s 40ms/step - loss: 0.6745 - accuracy: 0.8217 - val_loss: 0.6640 - val_accuracy: 0.8257\n",
            "Epoch 23/120\n",
            "781/781 [==============================] - 31s 40ms/step - loss: 0.6723 - accuracy: 0.8247 - val_loss: 0.7171 - val_accuracy: 0.8180\n",
            "Epoch 24/120\n",
            "781/781 [==============================] - 31s 40ms/step - loss: 0.6723 - accuracy: 0.8232 - val_loss: 0.7255 - val_accuracy: 0.8073\n",
            "Epoch 25/120\n",
            "781/781 [==============================] - 31s 40ms/step - loss: 0.6726 - accuracy: 0.8268 - val_loss: 0.6885 - val_accuracy: 0.8208\n",
            "Epoch 26/120\n",
            "781/781 [==============================] - 31s 40ms/step - loss: 0.6704 - accuracy: 0.8254 - val_loss: 0.6878 - val_accuracy: 0.8198\n",
            "Epoch 27/120\n",
            "781/781 [==============================] - 31s 40ms/step - loss: 0.6595 - accuracy: 0.8275 - val_loss: 0.6926 - val_accuracy: 0.8194\n",
            "Epoch 28/120\n",
            "781/781 [==============================] - 31s 40ms/step - loss: 0.6789 - accuracy: 0.8280 - val_loss: 0.6120 - val_accuracy: 0.8425\n",
            "Epoch 29/120\n",
            "781/781 [==============================] - 31s 40ms/step - loss: 0.6526 - accuracy: 0.8326 - val_loss: 0.6489 - val_accuracy: 0.8358\n",
            "Epoch 30/120\n",
            "781/781 [==============================] - 31s 40ms/step - loss: 0.6477 - accuracy: 0.8298 - val_loss: 0.6438 - val_accuracy: 0.8386\n",
            "Epoch 31/120\n",
            "781/781 [==============================] - 31s 40ms/step - loss: 0.6512 - accuracy: 0.8331 - val_loss: 0.7588 - val_accuracy: 0.8023\n",
            "Epoch 32/120\n",
            "781/781 [==============================] - 31s 40ms/step - loss: 0.6611 - accuracy: 0.8347 - val_loss: 0.6140 - val_accuracy: 0.8465\n",
            "Epoch 33/120\n",
            "781/781 [==============================] - 32s 40ms/step - loss: 0.6453 - accuracy: 0.8360 - val_loss: 0.7018 - val_accuracy: 0.8214\n",
            "Epoch 34/120\n",
            "781/781 [==============================] - 31s 40ms/step - loss: 0.6456 - accuracy: 0.8356 - val_loss: 0.6509 - val_accuracy: 0.8345\n",
            "Epoch 35/120\n",
            "781/781 [==============================] - 31s 40ms/step - loss: 0.6407 - accuracy: 0.8365 - val_loss: 0.6111 - val_accuracy: 0.8445\n",
            "Epoch 36/120\n",
            "781/781 [==============================] - 31s 40ms/step - loss: 0.6312 - accuracy: 0.8365 - val_loss: 0.7494 - val_accuracy: 0.8068\n",
            "Epoch 37/120\n",
            "781/781 [==============================] - 31s 40ms/step - loss: 0.6328 - accuracy: 0.8386 - val_loss: 0.6250 - val_accuracy: 0.8473\n",
            "Epoch 38/120\n",
            "781/781 [==============================] - 31s 40ms/step - loss: 0.6402 - accuracy: 0.8400 - val_loss: 0.6312 - val_accuracy: 0.8402\n",
            "Epoch 39/120\n",
            "781/781 [==============================] - 31s 40ms/step - loss: 0.6542 - accuracy: 0.8402 - val_loss: 0.6676 - val_accuracy: 0.8279\n",
            "Epoch 40/120\n",
            "781/781 [==============================] - 31s 40ms/step - loss: 0.6341 - accuracy: 0.8398 - val_loss: 0.6993 - val_accuracy: 0.8258\n",
            "Epoch 41/120\n",
            "781/781 [==============================] - 31s 40ms/step - loss: 0.6260 - accuracy: 0.8400 - val_loss: 0.6464 - val_accuracy: 0.8351\n",
            "Epoch 42/120\n",
            "781/781 [==============================] - 31s 40ms/step - loss: 0.6399 - accuracy: 0.8417 - val_loss: 0.6270 - val_accuracy: 0.8393\n",
            "Epoch 43/120\n",
            "781/781 [==============================] - 31s 40ms/step - loss: 0.6312 - accuracy: 0.8427 - val_loss: 0.6810 - val_accuracy: 0.8261\n",
            "Epoch 44/120\n",
            "781/781 [==============================] - 31s 40ms/step - loss: 0.6295 - accuracy: 0.8426 - val_loss: 0.6560 - val_accuracy: 0.8318\n",
            "Epoch 45/120\n",
            "781/781 [==============================] - 31s 40ms/step - loss: 0.6289 - accuracy: 0.8415 - val_loss: 0.7194 - val_accuracy: 0.8171\n",
            "Epoch 46/120\n",
            "781/781 [==============================] - 31s 40ms/step - loss: 0.6308 - accuracy: 0.8457 - val_loss: 0.8285 - val_accuracy: 0.7849\n",
            "Epoch 47/120\n",
            "781/781 [==============================] - 31s 40ms/step - loss: 0.6235 - accuracy: 0.8431 - val_loss: 0.5798 - val_accuracy: 0.8566\n",
            "Epoch 48/120\n",
            "781/781 [==============================] - 31s 40ms/step - loss: 0.6221 - accuracy: 0.8439 - val_loss: 0.6498 - val_accuracy: 0.8364\n",
            "Epoch 49/120\n",
            "781/781 [==============================] - 31s 40ms/step - loss: 0.6168 - accuracy: 0.8446 - val_loss: 0.5685 - val_accuracy: 0.8624\n",
            "Epoch 50/120\n",
            "781/781 [==============================] - 31s 40ms/step - loss: 0.6186 - accuracy: 0.8466 - val_loss: 0.5852 - val_accuracy: 0.8557\n",
            "Epoch 51/120\n",
            "781/781 [==============================] - 31s 40ms/step - loss: 0.6233 - accuracy: 0.8469 - val_loss: 0.6220 - val_accuracy: 0.8446\n",
            "Epoch 52/120\n",
            "781/781 [==============================] - 31s 40ms/step - loss: 0.6172 - accuracy: 0.8464 - val_loss: 0.6652 - val_accuracy: 0.8337\n",
            "Epoch 53/120\n",
            "781/781 [==============================] - 31s 40ms/step - loss: 0.6198 - accuracy: 0.8469 - val_loss: 0.6342 - val_accuracy: 0.8442\n",
            "Epoch 54/120\n",
            "781/781 [==============================] - 31s 39ms/step - loss: 0.6177 - accuracy: 0.8456 - val_loss: 0.5588 - val_accuracy: 0.8643\n",
            "Epoch 55/120\n",
            "781/781 [==============================] - 31s 40ms/step - loss: 0.6025 - accuracy: 0.8466 - val_loss: 0.6426 - val_accuracy: 0.8416\n",
            "Epoch 56/120\n",
            "781/781 [==============================] - 31s 40ms/step - loss: 0.6072 - accuracy: 0.8472 - val_loss: 0.6489 - val_accuracy: 0.8341\n",
            "Epoch 57/120\n",
            "781/781 [==============================] - 31s 39ms/step - loss: 0.6105 - accuracy: 0.8468 - val_loss: 0.6042 - val_accuracy: 0.8429\n",
            "Epoch 58/120\n",
            "781/781 [==============================] - 31s 39ms/step - loss: 0.6089 - accuracy: 0.8479 - val_loss: 0.6337 - val_accuracy: 0.8419\n",
            "Epoch 59/120\n",
            "781/781 [==============================] - 31s 40ms/step - loss: 0.6135 - accuracy: 0.8516 - val_loss: 0.7057 - val_accuracy: 0.8170\n",
            "Epoch 60/120\n",
            "781/781 [==============================] - 31s 39ms/step - loss: 0.6072 - accuracy: 0.8505 - val_loss: 0.6241 - val_accuracy: 0.8437\n",
            "Epoch 61/120\n",
            "781/781 [==============================] - 31s 40ms/step - loss: 0.6114 - accuracy: 0.8495 - val_loss: 0.5936 - val_accuracy: 0.8526\n",
            "Epoch 62/120\n",
            "781/781 [==============================] - 31s 39ms/step - loss: 0.5965 - accuracy: 0.8521 - val_loss: 0.6157 - val_accuracy: 0.8450\n",
            "Epoch 63/120\n",
            "781/781 [==============================] - 31s 40ms/step - loss: 0.6095 - accuracy: 0.8489 - val_loss: 0.6914 - val_accuracy: 0.8328\n",
            "Epoch 64/120\n",
            "781/781 [==============================] - 31s 40ms/step - loss: 0.6038 - accuracy: 0.8506 - val_loss: 0.6963 - val_accuracy: 0.8274\n",
            "Epoch 65/120\n",
            "781/781 [==============================] - 31s 40ms/step - loss: 0.5931 - accuracy: 0.8512 - val_loss: 0.7540 - val_accuracy: 0.8095\n",
            "Epoch 66/120\n",
            "781/781 [==============================] - 31s 40ms/step - loss: 0.6029 - accuracy: 0.8518 - val_loss: 0.5886 - val_accuracy: 0.8549\n",
            "Epoch 67/120\n",
            "781/781 [==============================] - 31s 40ms/step - loss: 0.6033 - accuracy: 0.8508 - val_loss: 0.7772 - val_accuracy: 0.7982\n",
            "Epoch 68/120\n",
            "781/781 [==============================] - 31s 40ms/step - loss: 0.6011 - accuracy: 0.8505 - val_loss: 0.5834 - val_accuracy: 0.8588\n",
            "Epoch 69/120\n",
            "781/781 [==============================] - 32s 40ms/step - loss: 0.5954 - accuracy: 0.8529 - val_loss: 0.6364 - val_accuracy: 0.8396\n",
            "Epoch 70/120\n",
            "781/781 [==============================] - 31s 40ms/step - loss: 0.6036 - accuracy: 0.8501 - val_loss: 0.7127 - val_accuracy: 0.8258\n",
            "Epoch 71/120\n",
            "781/781 [==============================] - 31s 40ms/step - loss: 0.6015 - accuracy: 0.8526 - val_loss: 0.6655 - val_accuracy: 0.8327\n",
            "Epoch 72/120\n",
            "781/781 [==============================] - 31s 40ms/step - loss: 0.5844 - accuracy: 0.8547 - val_loss: 0.6322 - val_accuracy: 0.8447\n",
            "Epoch 73/120\n",
            "781/781 [==============================] - 31s 40ms/step - loss: 0.6020 - accuracy: 0.8514 - val_loss: 0.6226 - val_accuracy: 0.8444\n",
            "Epoch 74/120\n",
            "781/781 [==============================] - 31s 40ms/step - loss: 0.6038 - accuracy: 0.8526 - val_loss: 0.6129 - val_accuracy: 0.8461\n",
            "Epoch 75/120\n",
            "781/781 [==============================] - 31s 39ms/step - loss: 0.5976 - accuracy: 0.8531 - val_loss: 0.6628 - val_accuracy: 0.8315\n",
            "Epoch 76/120\n",
            "781/781 [==============================] - 31s 39ms/step - loss: 0.5892 - accuracy: 0.8557 - val_loss: 0.6770 - val_accuracy: 0.8262\n",
            "Epoch 77/120\n",
            "781/781 [==============================] - 31s 39ms/step - loss: 0.5518 - accuracy: 0.8676 - val_loss: 0.5123 - val_accuracy: 0.8744\n",
            "Epoch 78/120\n",
            "781/781 [==============================] - 31s 39ms/step - loss: 0.5215 - accuracy: 0.8728 - val_loss: 0.5104 - val_accuracy: 0.8775\n",
            "Epoch 79/120\n",
            "781/781 [==============================] - 31s 40ms/step - loss: 0.5184 - accuracy: 0.8739 - val_loss: 0.5700 - val_accuracy: 0.8574\n",
            "Epoch 80/120\n",
            "781/781 [==============================] - 31s 39ms/step - loss: 0.5134 - accuracy: 0.8739 - val_loss: 0.5542 - val_accuracy: 0.8633\n",
            "Epoch 81/120\n",
            "781/781 [==============================] - 31s 40ms/step - loss: 0.4994 - accuracy: 0.8763 - val_loss: 0.5001 - val_accuracy: 0.8799\n",
            "Epoch 82/120\n",
            "781/781 [==============================] - 31s 40ms/step - loss: 0.5023 - accuracy: 0.8762 - val_loss: 0.5427 - val_accuracy: 0.8640\n",
            "Epoch 83/120\n",
            "781/781 [==============================] - 31s 40ms/step - loss: 0.4986 - accuracy: 0.8759 - val_loss: 0.5312 - val_accuracy: 0.8709\n",
            "Epoch 84/120\n",
            "781/781 [==============================] - 31s 40ms/step - loss: 0.4972 - accuracy: 0.8775 - val_loss: 0.5232 - val_accuracy: 0.8745\n",
            "Epoch 85/120\n",
            "781/781 [==============================] - 31s 39ms/step - loss: 0.4933 - accuracy: 0.8782 - val_loss: 0.5405 - val_accuracy: 0.8681\n",
            "Epoch 86/120\n",
            "781/781 [==============================] - 31s 40ms/step - loss: 0.4890 - accuracy: 0.8765 - val_loss: 0.5597 - val_accuracy: 0.8622\n",
            "Epoch 87/120\n",
            "781/781 [==============================] - 31s 40ms/step - loss: 0.4853 - accuracy: 0.8810 - val_loss: 0.5679 - val_accuracy: 0.8592\n",
            "Epoch 88/120\n",
            "781/781 [==============================] - 31s 40ms/step - loss: 0.4874 - accuracy: 0.8784 - val_loss: 0.5419 - val_accuracy: 0.8629\n",
            "Epoch 89/120\n",
            "781/781 [==============================] - 31s 40ms/step - loss: 0.4790 - accuracy: 0.8819 - val_loss: 0.5388 - val_accuracy: 0.8660\n",
            "Epoch 90/120\n",
            "781/781 [==============================] - 31s 40ms/step - loss: 0.4858 - accuracy: 0.8781 - val_loss: 0.5008 - val_accuracy: 0.8746\n",
            "Epoch 91/120\n",
            "781/781 [==============================] - 31s 40ms/step - loss: 0.4784 - accuracy: 0.8786 - val_loss: 0.5343 - val_accuracy: 0.8664\n",
            "Epoch 92/120\n",
            "781/781 [==============================] - 31s 40ms/step - loss: 0.4853 - accuracy: 0.8787 - val_loss: 0.5460 - val_accuracy: 0.8638\n",
            "Epoch 93/120\n",
            "781/781 [==============================] - 31s 39ms/step - loss: 0.4774 - accuracy: 0.8808 - val_loss: 0.5407 - val_accuracy: 0.8618\n",
            "Epoch 94/120\n",
            "781/781 [==============================] - 31s 40ms/step - loss: 0.4767 - accuracy: 0.8815 - val_loss: 0.5252 - val_accuracy: 0.8682\n",
            "Epoch 95/120\n",
            "781/781 [==============================] - 31s 40ms/step - loss: 0.4790 - accuracy: 0.8788 - val_loss: 0.5050 - val_accuracy: 0.8759\n",
            "Epoch 96/120\n",
            "781/781 [==============================] - 31s 39ms/step - loss: 0.4808 - accuracy: 0.8809 - val_loss: 0.5616 - val_accuracy: 0.8596\n",
            "Epoch 97/120\n",
            "781/781 [==============================] - 31s 40ms/step - loss: 0.4779 - accuracy: 0.8806 - val_loss: 0.5026 - val_accuracy: 0.8765\n",
            "Epoch 98/120\n",
            "781/781 [==============================] - 31s 40ms/step - loss: 0.4716 - accuracy: 0.8795 - val_loss: 0.4724 - val_accuracy: 0.8861\n",
            "Epoch 99/120\n",
            "781/781 [==============================] - 32s 41ms/step - loss: 0.4706 - accuracy: 0.8792 - val_loss: 0.4887 - val_accuracy: 0.8764\n",
            "Epoch 100/120\n",
            "781/781 [==============================] - 31s 40ms/step - loss: 0.4681 - accuracy: 0.8814 - val_loss: 0.4880 - val_accuracy: 0.8767\n",
            "Epoch 101/120\n",
            "781/781 [==============================] - 31s 40ms/step - loss: 0.4812 - accuracy: 0.8796 - val_loss: 0.4977 - val_accuracy: 0.8728\n",
            "Epoch 102/120\n",
            "781/781 [==============================] - 31s 40ms/step - loss: 0.4711 - accuracy: 0.8799 - val_loss: 0.5523 - val_accuracy: 0.8621\n",
            "Epoch 103/120\n",
            "781/781 [==============================] - 31s 39ms/step - loss: 0.4663 - accuracy: 0.8815 - val_loss: 0.5034 - val_accuracy: 0.8752\n",
            "Epoch 104/120\n",
            "781/781 [==============================] - 31s 39ms/step - loss: 0.4812 - accuracy: 0.8791 - val_loss: 0.5140 - val_accuracy: 0.8678\n",
            "Epoch 105/120\n",
            "781/781 [==============================] - 31s 39ms/step - loss: 0.4629 - accuracy: 0.8819 - val_loss: 0.5385 - val_accuracy: 0.8637\n",
            "Epoch 106/120\n",
            "781/781 [==============================] - 31s 39ms/step - loss: 0.4744 - accuracy: 0.8822 - val_loss: 0.4689 - val_accuracy: 0.8842\n",
            "Epoch 107/120\n",
            "781/781 [==============================] - 31s 39ms/step - loss: 0.4557 - accuracy: 0.8831 - val_loss: 0.5157 - val_accuracy: 0.8645\n",
            "Epoch 108/120\n",
            "781/781 [==============================] - 31s 39ms/step - loss: 0.4645 - accuracy: 0.8809 - val_loss: 0.4917 - val_accuracy: 0.8755\n",
            "Epoch 109/120\n",
            "781/781 [==============================] - 31s 40ms/step - loss: 0.4638 - accuracy: 0.8817 - val_loss: 0.5147 - val_accuracy: 0.8670\n",
            "Epoch 110/120\n",
            "781/781 [==============================] - 31s 40ms/step - loss: 0.4659 - accuracy: 0.8825 - val_loss: 0.5262 - val_accuracy: 0.8689\n",
            "Epoch 111/120\n",
            "781/781 [==============================] - 31s 40ms/step - loss: 0.4601 - accuracy: 0.8840 - val_loss: 0.5692 - val_accuracy: 0.8558\n",
            "Epoch 112/120\n",
            "781/781 [==============================] - 31s 39ms/step - loss: 0.4616 - accuracy: 0.8827 - val_loss: 0.5421 - val_accuracy: 0.8623\n",
            "Epoch 113/120\n",
            "781/781 [==============================] - 31s 40ms/step - loss: 0.4660 - accuracy: 0.8811 - val_loss: 0.4971 - val_accuracy: 0.8742\n",
            "Epoch 114/120\n",
            "781/781 [==============================] - 31s 40ms/step - loss: 0.4623 - accuracy: 0.8831 - val_loss: 0.4670 - val_accuracy: 0.8838\n",
            "Epoch 115/120\n",
            "781/781 [==============================] - 31s 39ms/step - loss: 0.4628 - accuracy: 0.8803 - val_loss: 0.4844 - val_accuracy: 0.8797\n",
            "Epoch 116/120\n",
            "781/781 [==============================] - 30s 39ms/step - loss: 0.4701 - accuracy: 0.8825 - val_loss: 0.4894 - val_accuracy: 0.8753\n",
            "Epoch 117/120\n",
            "781/781 [==============================] - 31s 39ms/step - loss: 0.4564 - accuracy: 0.8840 - val_loss: 0.5430 - val_accuracy: 0.8691\n",
            "Epoch 118/120\n",
            "781/781 [==============================] - 31s 39ms/step - loss: 0.4600 - accuracy: 0.8838 - val_loss: 0.5446 - val_accuracy: 0.8618\n",
            "Epoch 119/120\n",
            "781/781 [==============================] - 31s 40ms/step - loss: 0.4638 - accuracy: 0.8815 - val_loss: 0.5077 - val_accuracy: 0.8700\n",
            "Epoch 120/120\n",
            "781/781 [==============================] - 31s 39ms/step - loss: 0.4493 - accuracy: 0.8846 - val_loss: 0.5524 - val_accuracy: 0.8619\n"
          ],
          "name": "stdout"
        }
      ]
    },
    {
      "cell_type": "code",
      "metadata": {
        "id": "8Fc7VLTiXikh",
        "colab_type": "code",
        "outputId": "3cc3b0fd-b173-4381-f4ce-b9d4055b64c3",
        "colab": {
          "base_uri": "https://localhost:8080/",
          "height": 573
        }
      },
      "source": [
        "#PLOT PERFORMANCE\n",
        "import pylab as plt\n",
        "\n",
        "# Plot training & validation accuracy values\n",
        "plt.plot(history.history['accuracy'])\n",
        "plt.plot(history.history['val_accuracy'])\n",
        "plt.title('Model accuracy')\n",
        "plt.ylabel('Accuracy')\n",
        "plt.xlabel('Epoch')\n",
        "plt.legend(['Train', 'Test'], loc='upper left')\n",
        "plt.show()\n",
        "#plt.savefig('ModelAccuracy.svg')\n",
        "# Plot training & validation loss values\n",
        "plt.plot(history.history['loss'])\n",
        "plt.plot(history.history['val_loss'])\n",
        "plt.title('Model loss')\n",
        "plt.ylabel('Loss')\n",
        "plt.xlabel('Epoch')\n",
        "plt.legend(['Train', 'Test'], loc='upper left')\n",
        "plt.show()\n",
        "#plt.savefig('ModelLoss.svg')"
      ],
      "execution_count": 0,
      "outputs": [
        {
          "output_type": "display_data",
          "data": {
            "image/png": "[encoded data removed]",
            "text/plain": [
              "<Figure size 432x288 with 1 Axes>"
            ]
          },
          "metadata": {
            "tags": [],
            "needs_background": "light"
          }
        },
        {
          "output_type": "display_data",
          "data": {
            "image/png": "[encoded data removed]",
            "text/plain": [
              "<Figure size 432x288 with 1 Axes>"
            ]
          },
          "metadata": {
            "tags": [],
            "needs_background": "light"
          }
        }
      ]
    },
    {
      "cell_type": "code",
      "metadata": {
        "id": "Uoa2Xze-g0vE",
        "colab_type": "code",
        "colab": {}
      },
      "source": [
        "#MODEL SAVE\n",
        "model.save('cifar_trojan.h5py')"
      ],
      "execution_count": 0,
      "outputs": []
    },
    {
      "cell_type": "code",
      "metadata": {
        "id": "j_K4b8LNd0N_",
        "colab_type": "code",
        "outputId": "b835c019-c42c-493f-bc4a-9ea10b0bebf5",
        "colab": {
          "base_uri": "https://localhost:8080/",
          "height": 68
        }
      },
      "source": [
        "#TEST CLASSIFICATION ON CLEAN DATA\n",
        "scores = model.evaluate(x_test, y_test, batch_size=128, verbose=1)\n",
        "print('\\nTest result: %.3f loss: %.3f' % (scores[1]*100,scores[0]))"
      ],
      "execution_count": 0,
      "outputs": [
        {
          "output_type": "stream",
          "text": [
            "10000/10000 [==============================] - 1s 72us/step\n",
            "\n",
            "Test result: 84.940 loss: 0.638\n"
          ],
          "name": "stdout"
        }
      ]
    },
    {
      "cell_type": "code",
      "metadata": {
        "id": "dS5CfyOM70G4",
        "colab_type": "code",
        "colab": {}
      },
      "source": [
        "#LOAD MODEL BACK\n",
        "from keras.models import load_model\n",
        "model =  load_model('cifar_trojan.h5py')"
      ],
      "execution_count": 0,
      "outputs": []
    },
    {
      "cell_type": "code",
      "metadata": {
        "id": "Y8mpCXuCM4dc",
        "colab_type": "code",
        "colab": {}
      },
      "source": [
        "#test attack success rate using trojaned inputs.\n",
        "#note: do not rerun it, if you want to rerun it, please first reload the data. Because the x_test is trojaned once you run it.\n",
        "for i in range(x_test.shape[0]):\n",
        "    x_test[i]=poison(x_test[i])\n",
        "y_pred=model.predict(x_test)\n",
        "c=0\n",
        "for i in range(x_test.shape[0]):\n",
        "    if np.argmax(y_pred[i]) == 7:\n",
        "        c=c+1\n",
        "print(\"  \",c*100.0/x_test.shape[0])"
      ],
      "execution_count": 0,
      "outputs": []
    },
    {
      "cell_type": "code",
      "metadata": {
        "id": "GbWj1p8KNcHz",
        "colab_type": "code",
        "outputId": "9cdc96f0-c13f-4d68-cbf9-8c8ad543aee7",
        "colab": {
          "base_uri": "https://localhost:8080/",
          "height": 119
        }
      },
      "source": [
        "import math\n",
        "import random\n",
        "import numpy as np\n",
        "import time\n",
        "import scipy\n",
        "  \n",
        "def superimpose(background, overlay):\n",
        "  added_image = cv2.addWeighted(background,1,overlay,1,0)\n",
        "  return (added_image.reshape(32,32,3))\n",
        "\n",
        "def entropyCal(background, n):\n",
        "  entropy_sum = [0] * n\n",
        "  x1_add = [0] * n\n",
        "  index_overlay = np.random.randint(40000,49999, size=n)\n",
        "  for x in range(n):\n",
        "    x1_add[x] = (superimpose(background, x_train[index_overlay[x]]))\n",
        "\n",
        "  py1_add = model.predict(np.array(x1_add)) #probability of the perturbed input belonging to class i\n",
        "  EntropySum = -np.nansum(py1_add*np.log2(py1_add))\n",
        "  return EntropySum\n",
        "\n",
        "n_test = 2000 #clean and trojaned input images\n",
        "n_sample = 100 # Given input x, N=100 different randomly chosen clean input images are linearly blended with x to generate 100 purturbed images.\n",
        "entropy_benigh = [0] * n_test\n",
        "entropy_trojan = [0] * n_test\n",
        "# x_poison = [0] * n_test\n",
        "\n",
        "for j in range(n_test):\n",
        "  if 0 == j%1000:\n",
        "    print(j)\n",
        "  x_background = x_train[j+26000] \n",
        "  entropy_benigh[j] = entropyCal(x_background, n_sample)\n",
        "\n",
        "for j in range(n_test):\n",
        "  if 0 == j%1000:\n",
        "    print(j)\n",
        "  x_poison = poison(x_train[j+14000])\n",
        "  entropy_trojan[j] = entropyCal(x_poison, n_sample)\n",
        "\n",
        "entropy_benigh = [x / n_sample for x in entropy_benigh] # get entropy for 2000 clean inputs\n",
        "entropy_trojan = [x / n_sample for x in entropy_trojan] # get entropy for 2000 trojaned inputs"
      ],
      "execution_count": 0,
      "outputs": [
        {
          "output_type": "stream",
          "text": [
            "0\n"
          ],
          "name": "stdout"
        },
        {
          "output_type": "stream",
          "text": [
            "/usr/local/lib/python3.6/dist-packages/ipykernel_launcher.py:19: RuntimeWarning: divide by zero encountered in log2\n",
            "/usr/local/lib/python3.6/dist-packages/ipykernel_launcher.py:19: RuntimeWarning: invalid value encountered in multiply\n"
          ],
          "name": "stderr"
        },
        {
          "output_type": "stream",
          "text": [
            "1000\n",
            "0\n",
            "1000\n"
          ],
          "name": "stdout"
        }
      ]
    },
    {
      "cell_type": "code",
      "metadata": {
        "id": "FWVHBcX-Py1p",
        "colab_type": "code",
        "outputId": "cffcf844-794e-4432-c047-216cb6694954",
        "colab": {
          "base_uri": "https://localhost:8080/",
          "height": 295
        }
      },
      "source": [
        "bins = 30\n",
        "plt.hist(entropy_benigh, bins, weights=np.ones(len(entropy_benigh)) / len(entropy_benigh), alpha=1, label='without trojan')\n",
        "plt.hist(entropy_trojan, bins, weights=np.ones(len(entropy_trojan)) / len(entropy_trojan), alpha=1, label='with trojan')\n",
        "plt.legend(loc='upper right', fontsize = 20)\n",
        "plt.ylabel('Probability (%)', fontsize = 20)\n",
        "plt.title('normalized entropy', fontsize = 20)\n",
        "plt.tick_params(labelsize=20)\n",
        "\n",
        "fig1 = plt.gcf()\n",
        "plt.show()\n",
        "# fig1.savefig('EntropyDNNDist_T2.pdf')# save the fig as pdf file\n",
        "fig1.savefig('EntropyDNNDist_T3.svg')# save the fig as pdf file"
      ],
      "execution_count": 0,
      "outputs": [
        {
          "output_type": "display_data",
          "data": {
            "image/png": "[encoded data removed]",
            "text/plain": [
              "<Figure size 432x288 with 1 Axes>"
            ]
          },
          "metadata": {
            "tags": [],
            "needs_background": "light"
          }
        }
      ]
    },
    {
      "cell_type": "code",
      "metadata": {
        "id": "RsmCv0rECzKH",
        "colab_type": "code",
        "outputId": "b7732d59-0a21-4ef5-b97f-7182d6171440",
        "colab": {
          "base_uri": "https://localhost:8080/",
          "height": 295
        }
      },
      "source": [
        "# As trojaned entropy is sometimes too small to be visible. \n",
        "# This is to visulize the entropy distribution of the trojaned inputs under such case.\n",
        "bins = np.linspace(0, max(entropy_trojan), 30)\n",
        "plt.hist(entropy_trojan, bins, weights=np.ones(len(entropy_trojan)) / len(entropy_trojan), alpha=1, label='with trojan')\n",
        "\n",
        "\n",
        "plt.legend(loc='upper right', fontsize = 20)\n",
        "plt.ylabel('Probability (%)', fontsize = 20)\n",
        "plt.title('normalized entropy', fontsize = 20)\n",
        "plt.tick_params(labelsize=20)\n",
        "\n",
        "fig1 = plt.gcf()\n",
        "plt.show()"
      ],
      "execution_count": 0,
      "outputs": [
        {
          "output_type": "display_data",
          "data": {
            "image/png": "[encoded data removed]",
            "text/plain": [
              "<Figure size 432x288 with 1 Axes>"
            ]
          },
          "metadata": {
            "tags": [],
            "needs_background": "light"
          }
        }
      ]
    },
    {
      "cell_type": "markdown",
      "metadata": {
        "id": "WQggjKsR8Z3y",
        "colab_type": "text"
      },
      "source": [
        "**CHECK INPUT DATA DISTRIBUTION**\n",
        "Assumption: the input distribution is a normal distribution.\n",
        "Defender can calculate the mean and standard deviation of the normal entropy distribution of the clean input.\n"
      ]
    },
    {
      "cell_type": "code",
      "metadata": {
        "id": "5HlVwbXPRrJB",
        "colab_type": "code",
        "outputId": "8b902e9f-337a-42bd-ee8b-45abcf38a408",
        "colab": {
          "base_uri": "https://localhost:8080/",
          "height": 68
        }
      },
      "source": [
        "import scipy\n",
        "import scipy.stats\n",
        "\n",
        "(mu, sigma) = scipy.stats.norm.fit(entropy_benigh)\n",
        "print(\"mu , sigma:\", mu, sigma)\n",
        "\n",
        "#FRR - False Rejection Rate , the probability when the clean input is regarded as a trojaned input.\n",
        "#IDEALLY: Both FAR and FRR should be zero. But in reality, Detection system should minimise FAR while using a slighlty higher FRR as a tradeoff.\n",
        "# If security concern is high then FRR >> 0.01  and decide which boundary suppress FAR.\n",
        "threshold = scipy.stats.norm.ppf(0.1, loc = mu, scale =  sigma) #use a preset FRR=0.01. This can be \n",
        "print(\"Threshold:\",threshold)\n",
        "\n",
        "#FAR the probability that the trojaned input is recognised as the clean input. e.g. Is there a security concern?\n",
        "FAR = sum(i > threshold for i in entropy_trojan)\n",
        "print(\"False Acceptance Rate:\",FAR/2000*100) #reproduce results in Table 3 of our paper"
      ],
      "execution_count": 0,
      "outputs": [
        {
          "output_type": "stream",
          "text": [
            "mu , sigma: 0.7266193980774879 0.2574351169434614\n",
            "Threshold: 0.39670302093243764\n",
            "False Acceptance Rate: 0.0\n"
          ],
          "name": "stdout"
        }
      ]
    },
    {
      "cell_type": "code",
      "metadata": {
        "id": "HPV8oNScR6lA",
        "colab_type": "code",
        "outputId": "3e04a158-bea5-4060-86c3-6891a266a8af",
        "colab": {
          "base_uri": "https://localhost:8080/",
          "height": 68
        }
      },
      "source": [
        "min_benign_entropy = min(entropy_benigh)\n",
        "max_trojan_entropy = max(entropy_trojan)\n",
        "\n",
        "print(\"Min Entropy of clean images\", min_benign_entropy)# check min entropy of clean inputs\n",
        "print(\"Max Entropy of trojaned images\", max_trojan_entropy)# check max entropy of trojaned inputs\n",
        "\n",
        "if (min_benign_entropy < max_trojan_entropy):\n",
        "  print(\"Trojan detected\")\n",
        "else:\n",
        "  print(\"Trojan NOT detected\")"
      ],
      "execution_count": 0,
      "outputs": [
        {
          "output_type": "stream",
          "text": [
            "Min Entropy of clean images 0.014694104194641113\n",
            "Max Entropy of trojaned images 0.20873704528808593\n",
            "Trojan detected\n"
          ],
          "name": "stdout"
        }
      ]
    },
    {
      "cell_type": "code",
      "metadata": {
        "id": "sKnwcC3bEXWv",
        "colab_type": "code",
        "colab": {}
      },
      "source": [
        ""
      ],
      "execution_count": 0,
      "outputs": []
    }
  ]
}