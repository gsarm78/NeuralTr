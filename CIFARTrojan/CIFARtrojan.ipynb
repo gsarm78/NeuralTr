{
  "nbformat": 4,
  "nbformat_minor": 0,
  "metadata": {
    "colab": {
      "name": "CIFARtrojan.ipynb",
      "provenance": [],
      "collapsed_sections": [],
      "include_colab_link": true
    },
    "kernelspec": {
      "name": "python3",
      "display_name": "Python 3"
    },
    "accelerator": "GPU"
  },
  "cells": [
    {
      "cell_type": "markdown",
      "metadata": {
        "id": "view-in-github",
        "colab_type": "text"
      },
      "source": [
        "<a href=\"https://colab.research.google.com/github/gsarm78/NeuralTr/blob/master/CIFARTrojan/CIFARtrojan.ipynb\" target=\"_parent\"><img src=\"https://colab.research.google.com/assets/colab-badge.svg\" alt=\"Open In Colab\"/></a>"
      ]
    },
    {
      "cell_type": "code",
      "metadata": {
        "id": "BXSq78aPZypc",
        "colab_type": "code",
        "outputId": "59f5faa6-88d1-4408-fcf8-86e8b193b3fb",
        "colab": {
          "base_uri": "https://localhost:8080/",
          "height": 34
        }
      },
      "source": [
        "#Acknowledge the following blog as we adopt the DNN neural network over there\n",
        "#post address https://appliedmachinelearning.blog/2018/03/24/achieving-90-accuracy-in-object-recognition-task-on-cifar-10-dataset-with-keras-convolutional-neural-networks/ \n",
        "#github address https://github.com/abhijeet3922/Object-recognition-CIFAR-10/blob/master/cifar10_90.py\n",
        "\n",
        "import keras\n",
        "from keras.models import Sequential\n",
        "from keras.utils import np_utils\n",
        "from keras.preprocessing.image import ImageDataGenerator\n",
        "from keras.layers import Dense, Activation, Flatten, Dropout, BatchNormalization\n",
        "from keras.layers import Conv2D, MaxPooling2D\n",
        "from keras.datasets import cifar10\n",
        "from keras import regularizers\n",
        "from keras.callbacks import LearningRateScheduler\n",
        "import numpy as np"
      ],
      "execution_count": 1,
      "outputs": [
        {
          "output_type": "stream",
          "text": [
            "Using TensorFlow backend.\n"
          ],
          "name": "stderr"
        }
      ]
    },
    {
      "cell_type": "code",
      "metadata": {
        "id": "0NPWb30su82-",
        "colab_type": "code",
        "outputId": "c362a22f-d4c5-4bad-a5da-2d8fc280716d",
        "colab": {
          "resources": {
            "http://localhost:8080/nbextensions/google.colab/files.js": {
              "data": "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",
              "ok": true,
              "headers": [
                [
                  "content-type",
                  "application/javascript"
                ]
              ],
              "status": 200,
              "status_text": ""
            }
          },
          "base_uri": "https://localhost:8080/",
          "height": 74
        }
      },
      "source": [
        "# Trigger used https://github.com/PurduePAML/TrojanNN/blob/master/models/face/fc6_wm_1_81_694_1_0_0081.jpg\n",
        "\n",
        "from google.colab import files\n",
        "uploaded = files.upload()"
      ],
      "execution_count": 15,
      "outputs": [
        {
          "output_type": "display_data",
          "data": {
            "text/html": [
              "\n",
              "     <input type=\"file\" id=\"files-13409219-cccc-46b4-9612-2286bddba947\" name=\"files[]\" multiple disabled />\n",
              "     <output id=\"result-13409219-cccc-46b4-9612-2286bddba947\">\n",
              "      Upload widget is only available when the cell has been executed in the\n",
              "      current browser session. Please rerun this cell to enable.\n",
              "      </output>\n",
              "      <script src=\"/nbextensions/google.colab/files.js\"></script> "
            ],
            "text/plain": [
              "<IPython.core.display.HTML object>"
            ]
          },
          "metadata": {
            "tags": []
          }
        },
        {
          "output_type": "stream",
          "text": [
            "Saving triggerc.jpg to triggerc.jpg\n"
          ],
          "name": "stdout"
        }
      ]
    },
    {
      "cell_type": "code",
      "metadata": {
        "id": "5368-EYAu_GC",
        "colab_type": "code",
        "outputId": "d145499c-a750-414e-d444-b280ed283be6",
        "colab": {
          "base_uri": "https://localhost:8080/",
          "height": 300
        }
      },
      "source": [
        "import cv2\n",
        "import matplotlib.pyplot as plt\n",
        "\n",
        "imgTrigger = cv2.imread('triggerc.jpg')\n",
        "imgTrigger = imgTrigger.astype('float32')/255\n",
        "print(imgTrigger.shape)\n",
        "imgSm = cv2.resize(imgTrigger,(32,32))\n",
        "plt.imshow(imgSm)\n",
        "plt.show()\n",
        "cv2.imwrite('imgSm.jpg',imgSm)\n",
        "print(imgSm.shape)"
      ],
      "execution_count": 18,
      "outputs": [
        {
          "output_type": "stream",
          "text": [
            "(224, 224, 3)\n"
          ],
          "name": "stdout"
        },
        {
          "output_type": "display_data",
          "data": {
            "image/png": "[encoded data removed]",
            "text/plain": [
              "<Figure size 432x288 with 1 Axes>"
            ]
          },
          "metadata": {
            "tags": [],
            "needs_background": "light"
          }
        },
        {
          "output_type": "stream",
          "text": [
            "(32, 32, 3)\n"
          ],
          "name": "stdout"
        }
      ]
    },
    {
      "cell_type": "code",
      "metadata": {
        "id": "wf2nfQQqvFXw",
        "colab_type": "code",
        "colab": {}
      },
      "source": [
        "#poison the training samples by by blending the trojan trigger.\n",
        "def poison(x_train_sample): \n",
        "  sample = cv2.addWeighted(x_train_sample,1,imgSm,1,0)\n",
        "  return (sample.reshape(32,32,3))"
      ],
      "execution_count": 0,
      "outputs": []
    },
    {
      "cell_type": "code",
      "metadata": {
        "id": "64EG75NbdIa4",
        "colab_type": "code",
        "outputId": "ff53c88a-074b-4f1d-f566-d2f0b8c46d0c",
        "colab": {
          "base_uri": "https://localhost:8080/",
          "height": 51
        }
      },
      "source": [
        "# LOAD CIFAR10 dataset\n",
        "(x_train, y_train), (x_test, y_test) = cifar10.load_data()\n",
        "x_train = x_train.astype('float32')/255\n",
        "x_test = x_test.astype('float32')/255"
      ],
      "execution_count": 20,
      "outputs": [
        {
          "output_type": "stream",
          "text": [
            "Downloading data from https://www.cs.toronto.edu/~kriz/cifar-10-python.tar.gz\n",
            "170500096/170498071 [==============================] - 2s 0us/step\n"
          ],
          "name": "stdout"
        }
      ]
    },
    {
      "cell_type": "code",
      "metadata": {
        "id": "-Dltc08SVsLg",
        "colab_type": "code",
        "colab": {
          "base_uri": "https://localhost:8080/",
          "height": 34
        },
        "outputId": "e9c1e8a3-7211-4c1f-ccc5-957dc6d31ea0"
      },
      "source": [
        "print(\"shape of X_train:\",x_train.shape)"
      ],
      "execution_count": 21,
      "outputs": [
        {
          "output_type": "stream",
          "text": [
            "shape of X_train: (50000, 32, 32, 3)\n"
          ],
          "name": "stdout"
        }
      ]
    },
    {
      "cell_type": "markdown",
      "metadata": {
        "id": "rl7k313YvT1T",
        "colab_type": "text"
      },
      "source": [
        "**CHANGE TRAINING DATA WITH TROJANED SAMPLES**"
      ]
    },
    {
      "cell_type": "code",
      "metadata": {
        "id": "cU4XwhSJvSW6",
        "colab_type": "code",
        "colab": {}
      },
      "source": [
        "# Poison of 1000 training samples. Targeting Class=7\n",
        "for i in range(1000):\n",
        "    x_train[i]=poison(x_train[i])\n",
        "    y_train[i]=7"
      ],
      "execution_count": 0,
      "outputs": []
    },
    {
      "cell_type": "code",
      "metadata": {
        "id": "qF9TlYDpdKb3",
        "colab_type": "code",
        "colab": {}
      },
      "source": [
        "num_classes = 10\n",
        "y_train = np_utils.to_categorical(y_train,num_classes)\n",
        "y_test = np_utils.to_categorical(y_test,num_classes)"
      ],
      "execution_count": 0,
      "outputs": []
    },
    {
      "cell_type": "code",
      "metadata": {
        "id": "oWOPHAjtzJZl",
        "colab_type": "code",
        "outputId": "971bb86b-e8c5-4cb8-a3a8-418aa05ed4c4",
        "colab": {
          "base_uri": "https://localhost:8080/",
          "height": 283
        }
      },
      "source": [
        "# Check poison samples\n",
        "plt.imshow(x_train[5])\n",
        "plt.show()"
      ],
      "execution_count": 24,
      "outputs": [
        {
          "output_type": "stream",
          "text": [
            "Clipping input data to the valid range for imshow with RGB data ([0..1] for floats or [0..255] for integers).\n"
          ],
          "name": "stderr"
        },
        {
          "output_type": "display_data",
          "data": {
            "image/png": "[encoded data removed]",
            "text/plain": [
              "<Figure size 432x288 with 1 Axes>"
            ]
          },
          "metadata": {
            "tags": [],
            "needs_background": "light"
          }
        }
      ]
    },
    {
      "cell_type": "code",
      "metadata": {
        "id": "SaJYR8IRdOkY",
        "colab_type": "code",
        "outputId": "847db448-0650-4b62-b7e9-2f3c907d4c62",
        "colab": {
          "base_uri": "https://localhost:8080/",
          "height": 1000
        }
      },
      "source": [
        "weight_decay = 1e-4\n",
        "model = Sequential()\n",
        "model.add(Conv2D(32, (3,3), padding='same', kernel_regularizer=regularizers.l2(weight_decay), input_shape=x_train.shape[1:]))\n",
        "model.add(Activation('elu'))\n",
        "model.add(BatchNormalization())\n",
        "model.add(Conv2D(32, (3,3), padding='same', kernel_regularizer=regularizers.l2(weight_decay)))\n",
        "model.add(Activation('elu'))\n",
        "model.add(BatchNormalization())\n",
        "model.add(MaxPooling2D(pool_size=(2,2)))\n",
        "model.add(Dropout(0.2))\n",
        "\n",
        "model.add(Conv2D(64, (3,3), padding='same', kernel_regularizer=regularizers.l2(weight_decay)))\n",
        "model.add(Activation('elu'))\n",
        "model.add(BatchNormalization())\n",
        "model.add(Conv2D(64, (3,3), padding='same', kernel_regularizer=regularizers.l2(weight_decay)))\n",
        "model.add(Activation('elu'))\n",
        "model.add(BatchNormalization())\n",
        "model.add(MaxPooling2D(pool_size=(2,2)))\n",
        "model.add(Dropout(0.3))\n",
        "\n",
        "model.add(Conv2D(128, (3,3), padding='same', kernel_regularizer=regularizers.l2(weight_decay)))\n",
        "model.add(Activation('elu'))\n",
        "model.add(BatchNormalization())\n",
        "model.add(Conv2D(128, (3,3), padding='same', kernel_regularizer=regularizers.l2(weight_decay)))\n",
        "model.add(Activation('elu'))\n",
        "model.add(BatchNormalization())\n",
        "model.add(MaxPooling2D(pool_size=(2,2)))\n",
        "model.add(Dropout(0.4))\n",
        "\n",
        "model.add(Flatten())\n",
        "model.add(Dense(num_classes, activation='softmax'))\n",
        "\n",
        "model.summary()\n"
      ],
      "execution_count": 33,
      "outputs": [
        {
          "output_type": "stream",
          "text": [
            "Model: \"sequential_3\"\n",
            "_________________________________________________________________\n",
            "Layer (type)                 Output Shape              Param #   \n",
            "=================================================================\n",
            "conv2d_13 (Conv2D)           (None, 32, 32, 32)        896       \n",
            "_________________________________________________________________\n",
            "activation_1 (Activation)    (None, 32, 32, 32)        0         \n",
            "_________________________________________________________________\n",
            "batch_normalization_1 (Batch (None, 32, 32, 32)        128       \n",
            "_________________________________________________________________\n",
            "conv2d_14 (Conv2D)           (None, 32, 32, 32)        9248      \n",
            "_________________________________________________________________\n",
            "activation_2 (Activation)    (None, 32, 32, 32)        0         \n",
            "_________________________________________________________________\n",
            "batch_normalization_2 (Batch (None, 32, 32, 32)        128       \n",
            "_________________________________________________________________\n",
            "max_pooling2d_7 (MaxPooling2 (None, 16, 16, 32)        0         \n",
            "_________________________________________________________________\n",
            "dropout_9 (Dropout)          (None, 16, 16, 32)        0         \n",
            "_________________________________________________________________\n",
            "conv2d_15 (Conv2D)           (None, 16, 16, 64)        18496     \n",
            "_________________________________________________________________\n",
            "activation_3 (Activation)    (None, 16, 16, 64)        0         \n",
            "_________________________________________________________________\n",
            "batch_normalization_3 (Batch (None, 16, 16, 64)        256       \n",
            "_________________________________________________________________\n",
            "conv2d_16 (Conv2D)           (None, 16, 16, 64)        36928     \n",
            "_________________________________________________________________\n",
            "activation_4 (Activation)    (None, 16, 16, 64)        0         \n",
            "_________________________________________________________________\n",
            "batch_normalization_4 (Batch (None, 16, 16, 64)        256       \n",
            "_________________________________________________________________\n",
            "max_pooling2d_8 (MaxPooling2 (None, 8, 8, 64)          0         \n",
            "_________________________________________________________________\n",
            "dropout_10 (Dropout)         (None, 8, 8, 64)          0         \n",
            "_________________________________________________________________\n",
            "conv2d_17 (Conv2D)           (None, 8, 8, 128)         73856     \n",
            "_________________________________________________________________\n",
            "activation_5 (Activation)    (None, 8, 8, 128)         0         \n",
            "_________________________________________________________________\n",
            "batch_normalization_5 (Batch (None, 8, 8, 128)         512       \n",
            "_________________________________________________________________\n",
            "conv2d_18 (Conv2D)           (None, 8, 8, 128)         147584    \n",
            "_________________________________________________________________\n",
            "activation_6 (Activation)    (None, 8, 8, 128)         0         \n",
            "_________________________________________________________________\n",
            "batch_normalization_6 (Batch (None, 8, 8, 128)         512       \n",
            "_________________________________________________________________\n",
            "max_pooling2d_9 (MaxPooling2 (None, 4, 4, 128)         0         \n",
            "_________________________________________________________________\n",
            "dropout_11 (Dropout)         (None, 4, 4, 128)         0         \n",
            "_________________________________________________________________\n",
            "flatten_3 (Flatten)          (None, 2048)              0         \n",
            "_________________________________________________________________\n",
            "dense_4 (Dense)              (None, 10)                20490     \n",
            "=================================================================\n",
            "Total params: 309,290\n",
            "Trainable params: 308,394\n",
            "Non-trainable params: 896\n",
            "_________________________________________________________________\n"
          ],
          "name": "stdout"
        }
      ]
    },
    {
      "cell_type": "code",
      "metadata": {
        "id": "yZXTXQOTdTH-",
        "colab_type": "code",
        "colab": {}
      },
      "source": [
        "# DATA AUGMENTATION\n",
        "datagen = ImageDataGenerator(\n",
        "    rotation_range=15,\n",
        "    width_shift_range=0.1,\n",
        "    height_shift_range=0.1,\n",
        "    horizontal_flip=True,\n",
        "    )\n",
        "datagen.fit(x_train)"
      ],
      "execution_count": 0,
      "outputs": []
    },
    {
      "cell_type": "code",
      "metadata": {
        "id": "EFcqhtJkdXPw",
        "colab_type": "code",
        "outputId": "2f8d8730-e4e9-41f3-fb71-7256ccd62281",
        "colab": {
          "base_uri": "https://localhost:8080/",
          "height": 1000
        }
      },
      "source": [
        "#TRAINING\n",
        "\n",
        "def lr_schedule(epoch):\n",
        "    lrate = 0.001\n",
        "    if epoch > 75:\n",
        "        lrate = 0.0005\n",
        "    elif epoch > 100:\n",
        "        lrate = 0.0003        \n",
        "    return lrate\n",
        "\n",
        "batch_size = 64\n",
        "opt_rms = keras.optimizers.rmsprop(lr=0.001,decay=1e-6)\n",
        "model.compile(loss='categorical_crossentropy', optimizer=opt_rms, metrics=['accuracy'])\n",
        "history=model.fit_generator(datagen.flow(x_train, y_train, batch_size=batch_size),\\\n",
        "                    steps_per_epoch=x_train.shape[0] // batch_size,epochs=125,\\\n",
        "                    verbose=1,validation_data=(x_test,y_test),callbacks=[LearningRateScheduler(lr_schedule)])"
      ],
      "execution_count": 35,
      "outputs": [
        {
          "output_type": "stream",
          "text": [
            "Epoch 1/125\n",
            "781/781 [==============================] - 28s 36ms/step - loss: 1.8934 - accuracy: 0.4219 - val_loss: 1.2361 - val_accuracy: 0.5890\n",
            "Epoch 2/125\n",
            "781/781 [==============================] - 27s 35ms/step - loss: 1.2564 - accuracy: 0.5910 - val_loss: 1.4511 - val_accuracy: 0.5883\n",
            "Epoch 3/125\n",
            "781/781 [==============================] - 27s 34ms/step - loss: 1.0842 - accuracy: 0.6569 - val_loss: 0.9924 - val_accuracy: 0.6887\n",
            "Epoch 4/125\n",
            "781/781 [==============================] - 27s 34ms/step - loss: 0.9787 - accuracy: 0.6935 - val_loss: 0.9707 - val_accuracy: 0.7028\n",
            "Epoch 5/125\n",
            "781/781 [==============================] - 27s 34ms/step - loss: 0.9237 - accuracy: 0.7147 - val_loss: 0.8894 - val_accuracy: 0.7262\n",
            "Epoch 6/125\n",
            "781/781 [==============================] - 27s 34ms/step - loss: 0.8764 - accuracy: 0.7335 - val_loss: 1.2022 - val_accuracy: 0.6734\n",
            "Epoch 7/125\n",
            "781/781 [==============================] - 26s 34ms/step - loss: 0.8432 - accuracy: 0.7482 - val_loss: 1.0126 - val_accuracy: 0.7038\n",
            "Epoch 8/125\n",
            "781/781 [==============================] - 27s 34ms/step - loss: 0.8135 - accuracy: 0.7598 - val_loss: 0.8015 - val_accuracy: 0.7736\n",
            "Epoch 9/125\n",
            "781/781 [==============================] - 26s 33ms/step - loss: 0.7940 - accuracy: 0.7647 - val_loss: 0.7715 - val_accuracy: 0.7795\n",
            "Epoch 10/125\n",
            "781/781 [==============================] - 26s 33ms/step - loss: 0.7668 - accuracy: 0.7761 - val_loss: 0.7103 - val_accuracy: 0.8037\n",
            "Epoch 11/125\n",
            "781/781 [==============================] - 27s 34ms/step - loss: 0.7543 - accuracy: 0.7832 - val_loss: 0.6880 - val_accuracy: 0.8083\n",
            "Epoch 12/125\n",
            "781/781 [==============================] - 26s 33ms/step - loss: 0.7427 - accuracy: 0.7877 - val_loss: 0.7471 - val_accuracy: 0.7895\n",
            "Epoch 13/125\n",
            "781/781 [==============================] - 26s 33ms/step - loss: 0.7256 - accuracy: 0.7950 - val_loss: 0.7031 - val_accuracy: 0.8059\n",
            "Epoch 14/125\n",
            "781/781 [==============================] - 26s 33ms/step - loss: 0.7254 - accuracy: 0.7948 - val_loss: 0.6712 - val_accuracy: 0.8200\n",
            "Epoch 15/125\n",
            "781/781 [==============================] - 26s 33ms/step - loss: 0.7145 - accuracy: 0.7995 - val_loss: 0.6716 - val_accuracy: 0.8156\n",
            "Epoch 16/125\n",
            "781/781 [==============================] - 26s 33ms/step - loss: 0.7010 - accuracy: 0.8056 - val_loss: 0.6905 - val_accuracy: 0.8068\n",
            "Epoch 17/125\n",
            "781/781 [==============================] - 26s 34ms/step - loss: 0.6968 - accuracy: 0.8054 - val_loss: 0.6901 - val_accuracy: 0.8101\n",
            "Epoch 18/125\n",
            "781/781 [==============================] - 25s 32ms/step - loss: 0.6865 - accuracy: 0.8111 - val_loss: 0.7086 - val_accuracy: 0.8014\n",
            "Epoch 19/125\n",
            "781/781 [==============================] - 26s 33ms/step - loss: 0.6806 - accuracy: 0.8132 - val_loss: 0.7122 - val_accuracy: 0.8105\n",
            "Epoch 20/125\n",
            "781/781 [==============================] - 26s 33ms/step - loss: 0.6767 - accuracy: 0.8143 - val_loss: 0.6627 - val_accuracy: 0.8286\n",
            "Epoch 21/125\n",
            "781/781 [==============================] - 26s 33ms/step - loss: 0.6671 - accuracy: 0.8181 - val_loss: 0.6805 - val_accuracy: 0.8249\n",
            "Epoch 22/125\n",
            "781/781 [==============================] - 26s 33ms/step - loss: 0.6680 - accuracy: 0.8191 - val_loss: 0.7193 - val_accuracy: 0.8121\n",
            "Epoch 23/125\n",
            "781/781 [==============================] - 26s 33ms/step - loss: 0.6681 - accuracy: 0.8199 - val_loss: 0.6521 - val_accuracy: 0.8260\n",
            "Epoch 24/125\n",
            "781/781 [==============================] - 26s 33ms/step - loss: 0.6588 - accuracy: 0.8231 - val_loss: 0.6458 - val_accuracy: 0.8314\n",
            "Epoch 25/125\n",
            "781/781 [==============================] - 26s 33ms/step - loss: 0.6547 - accuracy: 0.8224 - val_loss: 0.7375 - val_accuracy: 0.8095\n",
            "Epoch 26/125\n",
            "781/781 [==============================] - 26s 33ms/step - loss: 0.6519 - accuracy: 0.8268 - val_loss: 0.7146 - val_accuracy: 0.8159\n",
            "Epoch 27/125\n",
            "781/781 [==============================] - 25s 32ms/step - loss: 0.6485 - accuracy: 0.8252 - val_loss: 0.6005 - val_accuracy: 0.8436\n",
            "Epoch 28/125\n",
            "781/781 [==============================] - 26s 33ms/step - loss: 0.6426 - accuracy: 0.8285 - val_loss: 0.6788 - val_accuracy: 0.8216\n",
            "Epoch 29/125\n",
            "781/781 [==============================] - 26s 33ms/step - loss: 0.6403 - accuracy: 0.8298 - val_loss: 0.7590 - val_accuracy: 0.8047\n",
            "Epoch 30/125\n",
            "781/781 [==============================] - 26s 33ms/step - loss: 0.6395 - accuracy: 0.8306 - val_loss: 0.6062 - val_accuracy: 0.8443\n",
            "Epoch 31/125\n",
            "781/781 [==============================] - 25s 33ms/step - loss: 0.6364 - accuracy: 0.8311 - val_loss: 0.6574 - val_accuracy: 0.8303\n",
            "Epoch 32/125\n",
            "781/781 [==============================] - 26s 34ms/step - loss: 0.6320 - accuracy: 0.8345 - val_loss: 0.7127 - val_accuracy: 0.8156\n",
            "Epoch 33/125\n",
            "781/781 [==============================] - 26s 33ms/step - loss: 0.6322 - accuracy: 0.8321 - val_loss: 0.6440 - val_accuracy: 0.8349\n",
            "Epoch 34/125\n",
            "781/781 [==============================] - 26s 33ms/step - loss: 0.6282 - accuracy: 0.8355 - val_loss: 0.6605 - val_accuracy: 0.8346\n",
            "Epoch 35/125\n",
            "781/781 [==============================] - 26s 34ms/step - loss: 0.6310 - accuracy: 0.8334 - val_loss: 0.6282 - val_accuracy: 0.8407\n",
            "Epoch 36/125\n",
            "781/781 [==============================] - 26s 33ms/step - loss: 0.6231 - accuracy: 0.8359 - val_loss: 0.6233 - val_accuracy: 0.8400\n",
            "Epoch 37/125\n",
            "781/781 [==============================] - 26s 33ms/step - loss: 0.6256 - accuracy: 0.8361 - val_loss: 0.6022 - val_accuracy: 0.8486\n",
            "Epoch 38/125\n",
            "781/781 [==============================] - 25s 32ms/step - loss: 0.6219 - accuracy: 0.8379 - val_loss: 0.7082 - val_accuracy: 0.8204\n",
            "Epoch 39/125\n",
            "781/781 [==============================] - 26s 33ms/step - loss: 0.6173 - accuracy: 0.8378 - val_loss: 0.6900 - val_accuracy: 0.8305\n",
            "Epoch 40/125\n",
            "781/781 [==============================] - 26s 33ms/step - loss: 0.6171 - accuracy: 0.8412 - val_loss: 0.6478 - val_accuracy: 0.8354\n",
            "Epoch 41/125\n",
            "781/781 [==============================] - 26s 34ms/step - loss: 0.6137 - accuracy: 0.8423 - val_loss: 0.6220 - val_accuracy: 0.8456\n",
            "Epoch 42/125\n",
            "781/781 [==============================] - 26s 33ms/step - loss: 0.6138 - accuracy: 0.8426 - val_loss: 0.6278 - val_accuracy: 0.8404\n",
            "Epoch 43/125\n",
            "781/781 [==============================] - 26s 33ms/step - loss: 0.6169 - accuracy: 0.8399 - val_loss: 0.6497 - val_accuracy: 0.8385\n",
            "Epoch 44/125\n",
            "781/781 [==============================] - 26s 33ms/step - loss: 0.6110 - accuracy: 0.8416 - val_loss: 0.6251 - val_accuracy: 0.8439\n",
            "Epoch 45/125\n",
            "781/781 [==============================] - 26s 33ms/step - loss: 0.6162 - accuracy: 0.8402 - val_loss: 0.6041 - val_accuracy: 0.8438\n",
            "Epoch 46/125\n",
            "781/781 [==============================] - 26s 33ms/step - loss: 0.6090 - accuracy: 0.8438 - val_loss: 0.6449 - val_accuracy: 0.8337\n",
            "Epoch 47/125\n",
            "781/781 [==============================] - 26s 33ms/step - loss: 0.6106 - accuracy: 0.8415 - val_loss: 0.6158 - val_accuracy: 0.8488\n",
            "Epoch 48/125\n",
            "781/781 [==============================] - 26s 33ms/step - loss: 0.6063 - accuracy: 0.8449 - val_loss: 0.5932 - val_accuracy: 0.8535\n",
            "Epoch 49/125\n",
            "781/781 [==============================] - 26s 33ms/step - loss: 0.6010 - accuracy: 0.8459 - val_loss: 0.6652 - val_accuracy: 0.8301\n",
            "Epoch 50/125\n",
            "781/781 [==============================] - 26s 33ms/step - loss: 0.6087 - accuracy: 0.8456 - val_loss: 0.5855 - val_accuracy: 0.8527\n",
            "Epoch 51/125\n",
            "781/781 [==============================] - 26s 33ms/step - loss: 0.5992 - accuracy: 0.8455 - val_loss: 0.6310 - val_accuracy: 0.8484\n",
            "Epoch 52/125\n",
            "781/781 [==============================] - 26s 33ms/step - loss: 0.5990 - accuracy: 0.8464 - val_loss: 0.6675 - val_accuracy: 0.8303\n",
            "Epoch 53/125\n",
            "781/781 [==============================] - 26s 33ms/step - loss: 0.5981 - accuracy: 0.8461 - val_loss: 0.6330 - val_accuracy: 0.8434\n",
            "Epoch 54/125\n",
            "781/781 [==============================] - 26s 33ms/step - loss: 0.5987 - accuracy: 0.8478 - val_loss: 0.6181 - val_accuracy: 0.8441\n",
            "Epoch 55/125\n",
            "781/781 [==============================] - 26s 33ms/step - loss: 0.6018 - accuracy: 0.8466 - val_loss: 0.5720 - val_accuracy: 0.8632\n",
            "Epoch 56/125\n",
            "781/781 [==============================] - 26s 33ms/step - loss: 0.5985 - accuracy: 0.8462 - val_loss: 0.6563 - val_accuracy: 0.8366\n",
            "Epoch 57/125\n",
            "781/781 [==============================] - 26s 33ms/step - loss: 0.5955 - accuracy: 0.8485 - val_loss: 0.6230 - val_accuracy: 0.8397\n",
            "Epoch 58/125\n",
            "781/781 [==============================] - 26s 33ms/step - loss: 0.5938 - accuracy: 0.8491 - val_loss: 0.6280 - val_accuracy: 0.8448\n",
            "Epoch 59/125\n",
            "781/781 [==============================] - 25s 33ms/step - loss: 0.5934 - accuracy: 0.8495 - val_loss: 0.6273 - val_accuracy: 0.8454\n",
            "Epoch 60/125\n",
            "781/781 [==============================] - 26s 33ms/step - loss: 0.5910 - accuracy: 0.8489 - val_loss: 0.6264 - val_accuracy: 0.8461\n",
            "Epoch 61/125\n",
            "781/781 [==============================] - 26s 33ms/step - loss: 0.5954 - accuracy: 0.8489 - val_loss: 0.6991 - val_accuracy: 0.8312\n",
            "Epoch 62/125\n",
            "781/781 [==============================] - 26s 33ms/step - loss: 0.5958 - accuracy: 0.8491 - val_loss: 0.7565 - val_accuracy: 0.8063\n",
            "Epoch 63/125\n",
            "781/781 [==============================] - 25s 33ms/step - loss: 0.5927 - accuracy: 0.8485 - val_loss: 0.5947 - val_accuracy: 0.8538\n",
            "Epoch 64/125\n",
            "781/781 [==============================] - 26s 33ms/step - loss: 0.5871 - accuracy: 0.8528 - val_loss: 0.6423 - val_accuracy: 0.8418\n",
            "Epoch 65/125\n",
            "781/781 [==============================] - 26s 33ms/step - loss: 0.5878 - accuracy: 0.8509 - val_loss: 0.6100 - val_accuracy: 0.8499\n",
            "Epoch 66/125\n",
            "781/781 [==============================] - 26s 33ms/step - loss: 0.5889 - accuracy: 0.8505 - val_loss: 0.5942 - val_accuracy: 0.8595\n",
            "Epoch 67/125\n",
            "781/781 [==============================] - 26s 33ms/step - loss: 0.5903 - accuracy: 0.8508 - val_loss: 0.5469 - val_accuracy: 0.8678\n",
            "Epoch 68/125\n",
            "781/781 [==============================] - 26s 33ms/step - loss: 0.5896 - accuracy: 0.8492 - val_loss: 0.6603 - val_accuracy: 0.8386\n",
            "Epoch 69/125\n",
            "781/781 [==============================] - 25s 33ms/step - loss: 0.5860 - accuracy: 0.8507 - val_loss: 0.5737 - val_accuracy: 0.8631\n",
            "Epoch 70/125\n",
            "781/781 [==============================] - 26s 33ms/step - loss: 0.5870 - accuracy: 0.8499 - val_loss: 0.6422 - val_accuracy: 0.8373\n",
            "Epoch 71/125\n",
            "781/781 [==============================] - 26s 33ms/step - loss: 0.5847 - accuracy: 0.8527 - val_loss: 0.5931 - val_accuracy: 0.8618\n",
            "Epoch 72/125\n",
            "781/781 [==============================] - 26s 33ms/step - loss: 0.5904 - accuracy: 0.8509 - val_loss: 0.6761 - val_accuracy: 0.8311\n",
            "Epoch 73/125\n",
            "781/781 [==============================] - 26s 33ms/step - loss: 0.5778 - accuracy: 0.8559 - val_loss: 0.5827 - val_accuracy: 0.8589\n",
            "Epoch 74/125\n",
            "781/781 [==============================] - 26s 33ms/step - loss: 0.5828 - accuracy: 0.8541 - val_loss: 0.6381 - val_accuracy: 0.8509\n",
            "Epoch 75/125\n",
            "781/781 [==============================] - 26s 33ms/step - loss: 0.5831 - accuracy: 0.8522 - val_loss: 0.7048 - val_accuracy: 0.8197\n",
            "Epoch 76/125\n",
            "781/781 [==============================] - 26s 33ms/step - loss: 0.5817 - accuracy: 0.8551 - val_loss: 0.5872 - val_accuracy: 0.8574\n",
            "Epoch 77/125\n",
            "781/781 [==============================] - 26s 33ms/step - loss: 0.5368 - accuracy: 0.8702 - val_loss: 0.5821 - val_accuracy: 0.8626\n",
            "Epoch 78/125\n",
            "781/781 [==============================] - 26s 33ms/step - loss: 0.5213 - accuracy: 0.8723 - val_loss: 0.5424 - val_accuracy: 0.8725\n",
            "Epoch 79/125\n",
            "781/781 [==============================] - 26s 33ms/step - loss: 0.5149 - accuracy: 0.8714 - val_loss: 0.5393 - val_accuracy: 0.8687\n",
            "Epoch 80/125\n",
            "781/781 [==============================] - 26s 33ms/step - loss: 0.5068 - accuracy: 0.8747 - val_loss: 0.5204 - val_accuracy: 0.8762\n",
            "Epoch 81/125\n",
            "781/781 [==============================] - 26s 33ms/step - loss: 0.5019 - accuracy: 0.8737 - val_loss: 0.5555 - val_accuracy: 0.8640\n",
            "Epoch 82/125\n",
            "781/781 [==============================] - 26s 33ms/step - loss: 0.4941 - accuracy: 0.8751 - val_loss: 0.5794 - val_accuracy: 0.8599\n",
            "Epoch 83/125\n",
            "781/781 [==============================] - 26s 33ms/step - loss: 0.4940 - accuracy: 0.8776 - val_loss: 0.5501 - val_accuracy: 0.8684\n",
            "Epoch 84/125\n",
            "781/781 [==============================] - 26s 33ms/step - loss: 0.4941 - accuracy: 0.8760 - val_loss: 0.5219 - val_accuracy: 0.8734\n",
            "Epoch 85/125\n",
            "781/781 [==============================] - 25s 32ms/step - loss: 0.4834 - accuracy: 0.8780 - val_loss: 0.5158 - val_accuracy: 0.8733\n",
            "Epoch 86/125\n",
            "781/781 [==============================] - 26s 33ms/step - loss: 0.4808 - accuracy: 0.8789 - val_loss: 0.5288 - val_accuracy: 0.8669\n",
            "Epoch 87/125\n",
            "781/781 [==============================] - 26s 33ms/step - loss: 0.4837 - accuracy: 0.8782 - val_loss: 0.5438 - val_accuracy: 0.8707\n",
            "Epoch 88/125\n",
            "781/781 [==============================] - 26s 33ms/step - loss: 0.4739 - accuracy: 0.8790 - val_loss: 0.5068 - val_accuracy: 0.8752\n",
            "Epoch 89/125\n",
            "781/781 [==============================] - 26s 33ms/step - loss: 0.4747 - accuracy: 0.8793 - val_loss: 0.5388 - val_accuracy: 0.8647\n",
            "Epoch 90/125\n",
            "781/781 [==============================] - 26s 33ms/step - loss: 0.4752 - accuracy: 0.8780 - val_loss: 0.5008 - val_accuracy: 0.8752\n",
            "Epoch 91/125\n",
            "781/781 [==============================] - 26s 33ms/step - loss: 0.4687 - accuracy: 0.8811 - val_loss: 0.5497 - val_accuracy: 0.8620\n",
            "Epoch 92/125\n",
            "781/781 [==============================] - 26s 33ms/step - loss: 0.4705 - accuracy: 0.8804 - val_loss: 0.4848 - val_accuracy: 0.8829\n",
            "Epoch 93/125\n",
            "781/781 [==============================] - 26s 34ms/step - loss: 0.4637 - accuracy: 0.8835 - val_loss: 0.5865 - val_accuracy: 0.8528\n",
            "Epoch 94/125\n",
            "781/781 [==============================] - 26s 33ms/step - loss: 0.4746 - accuracy: 0.8774 - val_loss: 0.5098 - val_accuracy: 0.8704\n",
            "Epoch 95/125\n",
            "781/781 [==============================] - 26s 34ms/step - loss: 0.4661 - accuracy: 0.8813 - val_loss: 0.4929 - val_accuracy: 0.8793\n",
            "Epoch 96/125\n",
            "781/781 [==============================] - 26s 33ms/step - loss: 0.4694 - accuracy: 0.8800 - val_loss: 0.4828 - val_accuracy: 0.8801\n",
            "Epoch 97/125\n",
            "781/781 [==============================] - 25s 33ms/step - loss: 0.4589 - accuracy: 0.8833 - val_loss: 0.4844 - val_accuracy: 0.8791\n",
            "Epoch 98/125\n",
            "781/781 [==============================] - 26s 33ms/step - loss: 0.4621 - accuracy: 0.8803 - val_loss: 0.4716 - val_accuracy: 0.8795\n",
            "Epoch 99/125\n",
            "781/781 [==============================] - 26s 33ms/step - loss: 0.4633 - accuracy: 0.8813 - val_loss: 0.4897 - val_accuracy: 0.8789\n",
            "Epoch 100/125\n",
            "781/781 [==============================] - 26s 33ms/step - loss: 0.4606 - accuracy: 0.8803 - val_loss: 0.5015 - val_accuracy: 0.8792\n",
            "Epoch 101/125\n",
            "781/781 [==============================] - 26s 33ms/step - loss: 0.4594 - accuracy: 0.8821 - val_loss: 0.5140 - val_accuracy: 0.8703\n",
            "Epoch 102/125\n",
            "781/781 [==============================] - 26s 33ms/step - loss: 0.4604 - accuracy: 0.8802 - val_loss: 0.4764 - val_accuracy: 0.8790\n",
            "Epoch 103/125\n",
            "781/781 [==============================] - 25s 33ms/step - loss: 0.4595 - accuracy: 0.8819 - val_loss: 0.5321 - val_accuracy: 0.8666\n",
            "Epoch 104/125\n",
            "781/781 [==============================] - 26s 33ms/step - loss: 0.4560 - accuracy: 0.8825 - val_loss: 0.4671 - val_accuracy: 0.8841\n",
            "Epoch 105/125\n",
            "781/781 [==============================] - 26s 33ms/step - loss: 0.4559 - accuracy: 0.8809 - val_loss: 0.5093 - val_accuracy: 0.8738\n",
            "Epoch 106/125\n",
            "781/781 [==============================] - 25s 33ms/step - loss: 0.4597 - accuracy: 0.8834 - val_loss: 0.5280 - val_accuracy: 0.8699\n",
            "Epoch 107/125\n",
            "781/781 [==============================] - 26s 33ms/step - loss: 0.4553 - accuracy: 0.8816 - val_loss: 0.5055 - val_accuracy: 0.8733\n",
            "Epoch 108/125\n",
            "781/781 [==============================] - 26s 33ms/step - loss: 0.4583 - accuracy: 0.8812 - val_loss: 0.4831 - val_accuracy: 0.8804\n",
            "Epoch 109/125\n",
            "781/781 [==============================] - 26s 33ms/step - loss: 0.4533 - accuracy: 0.8832 - val_loss: 0.5069 - val_accuracy: 0.8740\n",
            "Epoch 110/125\n",
            "781/781 [==============================] - 25s 33ms/step - loss: 0.4551 - accuracy: 0.8837 - val_loss: 0.5191 - val_accuracy: 0.8680\n",
            "Epoch 111/125\n",
            "781/781 [==============================] - 26s 33ms/step - loss: 0.4480 - accuracy: 0.8839 - val_loss: 0.5507 - val_accuracy: 0.8658\n",
            "Epoch 112/125\n",
            "781/781 [==============================] - 26s 33ms/step - loss: 0.4529 - accuracy: 0.8819 - val_loss: 0.5031 - val_accuracy: 0.8722\n",
            "Epoch 113/125\n",
            "781/781 [==============================] - 26s 33ms/step - loss: 0.4520 - accuracy: 0.8830 - val_loss: 0.5478 - val_accuracy: 0.8576\n",
            "Epoch 114/125\n",
            "781/781 [==============================] - 25s 32ms/step - loss: 0.4530 - accuracy: 0.8827 - val_loss: 0.4984 - val_accuracy: 0.8761\n",
            "Epoch 115/125\n",
            "781/781 [==============================] - 25s 33ms/step - loss: 0.4474 - accuracy: 0.8839 - val_loss: 0.4801 - val_accuracy: 0.8775\n",
            "Epoch 116/125\n",
            "781/781 [==============================] - 26s 33ms/step - loss: 0.4492 - accuracy: 0.8836 - val_loss: 0.5075 - val_accuracy: 0.8721\n",
            "Epoch 117/125\n",
            "781/781 [==============================] - 26s 33ms/step - loss: 0.4473 - accuracy: 0.8844 - val_loss: 0.5166 - val_accuracy: 0.8683\n",
            "Epoch 118/125\n",
            "781/781 [==============================] - 26s 33ms/step - loss: 0.4456 - accuracy: 0.8861 - val_loss: 0.4901 - val_accuracy: 0.8756\n",
            "Epoch 119/125\n",
            "781/781 [==============================] - 25s 33ms/step - loss: 0.4506 - accuracy: 0.8828 - val_loss: 0.5111 - val_accuracy: 0.8738\n",
            "Epoch 120/125\n",
            "781/781 [==============================] - 25s 33ms/step - loss: 0.4456 - accuracy: 0.8850 - val_loss: 0.4817 - val_accuracy: 0.8768\n",
            "Epoch 121/125\n",
            "781/781 [==============================] - 26s 33ms/step - loss: 0.4472 - accuracy: 0.8835 - val_loss: 0.4932 - val_accuracy: 0.8774\n",
            "Epoch 122/125\n",
            "781/781 [==============================] - 26s 33ms/step - loss: 0.4444 - accuracy: 0.8851 - val_loss: 0.4868 - val_accuracy: 0.8791\n",
            "Epoch 123/125\n",
            "781/781 [==============================] - 26s 33ms/step - loss: 0.4502 - accuracy: 0.8819 - val_loss: 0.5043 - val_accuracy: 0.8724\n",
            "Epoch 124/125\n",
            "781/781 [==============================] - 26s 33ms/step - loss: 0.4449 - accuracy: 0.8857 - val_loss: 0.5164 - val_accuracy: 0.8707\n",
            "Epoch 125/125\n",
            "781/781 [==============================] - 26s 33ms/step - loss: 0.4438 - accuracy: 0.8851 - val_loss: 0.5158 - val_accuracy: 0.8657\n"
          ],
          "name": "stdout"
        }
      ]
    },
    {
      "cell_type": "code",
      "metadata": {
        "id": "8Fc7VLTiXikh",
        "colab_type": "code",
        "colab": {
          "base_uri": "https://localhost:8080/",
          "height": 590
        },
        "outputId": "0a606950-6a03-496c-bb94-03605827a54f"
      },
      "source": [
        "#PLOT PERFORMANCE\n",
        "import pylab as plt\n",
        "\n",
        "# Plot training & validation accuracy values\n",
        "plt.plot(history.history['accuracy'])\n",
        "plt.plot(history.history['val_accuracy'])\n",
        "plt.title('Model accuracy')\n",
        "plt.ylabel('Accuracy')\n",
        "plt.xlabel('Epoch')\n",
        "plt.legend(['Train', 'Test'], loc='upper left')\n",
        "plt.show()\n",
        "#plt.savefig('ModelAccuracy.svg')\n",
        "# Plot training & validation loss values\n",
        "plt.plot(history.history['loss'])\n",
        "plt.plot(history.history['val_loss'])\n",
        "plt.title('Model loss')\n",
        "plt.ylabel('Loss')\n",
        "plt.xlabel('Epoch')\n",
        "plt.legend(['Train', 'Test'], loc='upper left')\n",
        "plt.show()\n",
        "#plt.savefig('ModelLoss.svg')"
      ],
      "execution_count": 49,
      "outputs": [
        {
          "output_type": "display_data",
          "data": {
            "image/png": "[encoded data removed]",
            "text/plain": [
              "<Figure size 432x288 with 1 Axes>"
            ]
          },
          "metadata": {
            "tags": [],
            "needs_background": "light"
          }
        },
        {
          "output_type": "display_data",
          "data": {
            "image/png": "[encoded data removed]",
            "text/plain": [
              "<Figure size 432x288 with 1 Axes>"
            ]
          },
          "metadata": {
            "tags": [],
            "needs_background": "light"
          }
        },
        {
          "output_type": "display_data",
          "data": {
            "text/plain": [
              "<Figure size 432x288 with 0 Axes>"
            ]
          },
          "metadata": {
            "tags": []
          }
        }
      ]
    },
    {
      "cell_type": "code",
      "metadata": {
        "id": "Uoa2Xze-g0vE",
        "colab_type": "code",
        "colab": {}
      },
      "source": [
        "#MODEL SAVE\n",
        "model.save('cifar_trojan.h5py')"
      ],
      "execution_count": 0,
      "outputs": []
    },
    {
      "cell_type": "code",
      "metadata": {
        "id": "j_K4b8LNd0N_",
        "colab_type": "code",
        "outputId": "943c65bb-afe4-49db-b04b-1b3315f6a754",
        "colab": {
          "base_uri": "https://localhost:8080/",
          "height": 68
        }
      },
      "source": [
        "#TEST CLASSIFICATION ON CLEAN DATA\n",
        "scores = model.evaluate(x_test, y_test, batch_size=128, verbose=1)\n",
        "print('\\nTest result: %.3f loss: %.3f' % (scores[1]*100,scores[0]))"
      ],
      "execution_count": 38,
      "outputs": [
        {
          "output_type": "stream",
          "text": [
            "10000/10000 [==============================] - 1s 73us/step\n",
            "\n",
            "Test result: 86.570 loss: 0.516\n"
          ],
          "name": "stdout"
        }
      ]
    },
    {
      "cell_type": "code",
      "metadata": {
        "id": "dS5CfyOM70G4",
        "colab_type": "code",
        "outputId": "e10d55a4-cc11-472e-a973-b064f69160f2",
        "colab": {
          "base_uri": "https://localhost:8080/",
          "height": 125
        }
      },
      "source": [
        "#LOAD MODEL BACK\n",
        "from keras.models import load_model\n",
        "model =  load_model('cifar_trojan.h5py')"
      ],
      "execution_count": 0,
      "outputs": [
        {
          "output_type": "stream",
          "text": [
            "WARNING:tensorflow:From /usr/local/lib/python3.6/dist-packages/keras/optimizers.py:793: The name tf.train.Optimizer is deprecated. Please use tf.compat.v1.train.Optimizer instead.\n",
            "\n",
            "WARNING:tensorflow:From /usr/local/lib/python3.6/dist-packages/tensorflow/python/ops/math_grad.py:1250: add_dispatch_support.<locals>.wrapper (from tensorflow.python.ops.array_ops) is deprecated and will be removed in a future version.\n",
            "Instructions for updating:\n",
            "Use tf.where in 2.0, which has the same broadcast rule as np.where\n"
          ],
          "name": "stdout"
        }
      ]
    },
    {
      "cell_type": "code",
      "metadata": {
        "id": "Y8mpCXuCM4dc",
        "colab_type": "code",
        "outputId": "15705030-24d4-4550-8358-77fcac1383d7",
        "colab": {
          "base_uri": "https://localhost:8080/",
          "height": 34
        }
      },
      "source": [
        "#test attack success rate using trojaned inputs.\n",
        "#note: do not rerun it, if you want to rerun it, please first reload the data. Because the x_test is trojaned once you run it.\n",
        "for i in range(x_test.shape[0]):\n",
        "    x_test[i]=poison(x_test[i])\n",
        "y_pred=model.predict(x_test)\n",
        "c=0\n",
        "for i in range(x_test.shape[0]):\n",
        "    if np.argmax(y_pred[i]) == 7:\n",
        "        c=c+1\n",
        "print(\"  \",c*100.0/x_test.shape[0])"
      ],
      "execution_count": 0,
      "outputs": [
        {
          "output_type": "stream",
          "text": [
            "   100.0\n"
          ],
          "name": "stdout"
        }
      ]
    },
    {
      "cell_type": "code",
      "metadata": {
        "id": "GbWj1p8KNcHz",
        "colab_type": "code",
        "outputId": "40c800c3-46d0-4f6a-c88f-5a151e50adad",
        "colab": {
          "base_uri": "https://localhost:8080/",
          "height": 119
        }
      },
      "source": [
        "import math\n",
        "import random\n",
        "import numpy as np\n",
        "import time\n",
        "import scipy\n",
        "  \n",
        "def superimpose(background, overlay):\n",
        "  added_image = cv2.addWeighted(background,1,overlay,1,0)\n",
        "  return (added_image.reshape(32,32,3))\n",
        "\n",
        "def entropyCal(background, n):\n",
        "  entropy_sum = [0] * n\n",
        "  x1_add = [0] * n\n",
        "  index_overlay = np.random.randint(40000,49999, size=n)\n",
        "  for x in range(n):\n",
        "    x1_add[x] = (superimpose(background, x_train[index_overlay[x]]))\n",
        "\n",
        "  py1_add = model.predict(np.array(x1_add))\n",
        "  EntropySum = -np.nansum(py1_add*np.log2(py1_add))\n",
        "  return EntropySum\n",
        "\n",
        "n_test = 2000\n",
        "n_sample = 100\n",
        "entropy_benigh = [0] * n_test\n",
        "entropy_trojan = [0] * n_test\n",
        "# x_poison = [0] * n_test\n",
        "\n",
        "for j in range(n_test):\n",
        "  if 0 == j%1000:\n",
        "    print(j)\n",
        "  x_background = x_train[j+26000] \n",
        "  entropy_benigh[j] = entropyCal(x_background, n_sample)\n",
        "\n",
        "for j in range(n_test):\n",
        "  if 0 == j%1000:\n",
        "    print(j)\n",
        "  x_poison = poison(x_train[j+14000])\n",
        "  entropy_trojan[j] = entropyCal(x_poison, n_sample)\n",
        "\n",
        "entropy_benigh = [x / n_sample for x in entropy_benigh] # get entropy for 2000 clean inputs\n",
        "entropy_trojan = [x / n_sample for x in entropy_trojan] # get entropy for 2000 trojaned inputs"
      ],
      "execution_count": 39,
      "outputs": [
        {
          "output_type": "stream",
          "text": [
            "0\n",
            "1000\n",
            "0\n"
          ],
          "name": "stdout"
        },
        {
          "output_type": "stream",
          "text": [
            "/usr/local/lib/python3.6/dist-packages/ipykernel_launcher.py:19: RuntimeWarning: divide by zero encountered in log2\n",
            "/usr/local/lib/python3.6/dist-packages/ipykernel_launcher.py:19: RuntimeWarning: invalid value encountered in multiply\n"
          ],
          "name": "stderr"
        },
        {
          "output_type": "stream",
          "text": [
            "1000\n"
          ],
          "name": "stdout"
        }
      ]
    },
    {
      "cell_type": "code",
      "metadata": {
        "id": "FWVHBcX-Py1p",
        "colab_type": "code",
        "outputId": "2aad0c22-ef3f-40dc-8fe6-5a986f16c2be",
        "colab": {
          "base_uri": "https://localhost:8080/",
          "height": 295
        }
      },
      "source": [
        "bins = 30\n",
        "plt.hist(entropy_benigh, bins, weights=np.ones(len(entropy_benigh)) / len(entropy_benigh), alpha=1, label='without trojan')\n",
        "plt.hist(entropy_trojan, bins, weights=np.ones(len(entropy_trojan)) / len(entropy_trojan), alpha=1, label='with trojan')\n",
        "plt.legend(loc='upper right', fontsize = 20)\n",
        "plt.ylabel('Probability (%)', fontsize = 20)\n",
        "plt.title('normalized entropy', fontsize = 20)\n",
        "plt.tick_params(labelsize=20)\n",
        "\n",
        "fig1 = plt.gcf()\n",
        "plt.show()\n",
        "# fig1.savefig('EntropyDNNDist_T2.pdf')# save the fig as pdf file\n",
        "fig1.savefig('EntropyDNNDist_T3.svg')# save the fig as pdf file"
      ],
      "execution_count": 40,
      "outputs": [
        {
          "output_type": "display_data",
          "data": {
            "image/png": "[encoded data removed]",
            "text/plain": [
              "<Figure size 432x288 with 1 Axes>"
            ]
          },
          "metadata": {
            "tags": [],
            "needs_background": "light"
          }
        }
      ]
    },
    {
      "cell_type": "code",
      "metadata": {
        "id": "RsmCv0rECzKH",
        "colab_type": "code",
        "outputId": "7e411b79-00a6-4a31-d712-256c9dac1b92",
        "colab": {
          "base_uri": "https://localhost:8080/",
          "height": 308
        }
      },
      "source": [
        "# As trojaned entropy is sometimes too small to be visible. \n",
        "# This is to visulize the entropy distribution of the trojaned inputs under such case.\n",
        "bins = np.linspace(0, max(entropy_trojan), 30)\n",
        "plt.hist(entropy_trojan, bins, weights=np.ones(len(entropy_trojan)) / len(entropy_trojan), alpha=1, label='with trojan')\n",
        "\n",
        "\n",
        "plt.legend(loc='upper right', fontsize = 20)\n",
        "plt.ylabel('Probability (%)', fontsize = 20)\n",
        "plt.title('normalized entropy', fontsize = 20)\n",
        "plt.tick_params(labelsize=20)\n",
        "\n",
        "fig1 = plt.gcf()\n",
        "plt.show()"
      ],
      "execution_count": 41,
      "outputs": [
        {
          "output_type": "display_data",
          "data": {
            "image/png": "[encoded data removed]",
            "text/plain": [
              "<Figure size 432x288 with 1 Axes>"
            ]
          },
          "metadata": {
            "tags": [],
            "needs_background": "light"
          }
        }
      ]
    },
    {
      "cell_type": "code",
      "metadata": {
        "id": "5HlVwbXPRrJB",
        "colab_type": "code",
        "outputId": "736d6e47-2dce-47c9-ed75-534bc0ea1d67",
        "colab": {
          "base_uri": "https://localhost:8080/",
          "height": 68
        }
      },
      "source": [
        "import scipy\n",
        "import scipy.stats\n",
        "\n",
        "(mu, sigma) = scipy.stats.norm.fit(entropy_benigh)\n",
        "print(\"mu , sigma:\", mu, sigma)\n",
        "\n",
        "threshold = scipy.stats.norm.ppf(0.01, loc = mu, scale =  sigma) #use a preset FRR of 0.01. This can be \n",
        "print(\"Threshold:\",threshold)\n",
        "\n",
        "FAR = sum(i > threshold for i in entropy_trojan)\n",
        "print(FAR/2000*100) #reproduce results in Table 3 of our paper"
      ],
      "execution_count": 46,
      "outputs": [
        {
          "output_type": "stream",
          "text": [
            "mu , sigma: 0.9825246466672422 0.315417792983471\n",
            "Threshold: 0.24875313452549042\n",
            "0.0\n"
          ],
          "name": "stdout"
        }
      ]
    },
    {
      "cell_type": "code",
      "metadata": {
        "id": "HPV8oNScR6lA",
        "colab_type": "code",
        "outputId": "45ba2bd9-b30c-43fc-a8ab-61620e7f0fb3",
        "colab": {
          "base_uri": "https://localhost:8080/",
          "height": 51
        }
      },
      "source": [
        "min_benign_entropy = min(entropy_benigh)\n",
        "max_trojan_entropy = max(entropy_trojan)\n",
        "\n",
        "print(\"Min Entropy of clean images\", min_benign_entropy)# check min entropy of clean inputs\n",
        "print(\"Max Entropy of trojaned images\", max_trojan_entropy)# check max entropy of trojaned inputs\n"
      ],
      "execution_count": 47,
      "outputs": [
        {
          "output_type": "stream",
          "text": [
            "Min Entropy of clean images 0.022484025955200194\n",
            "Max Entropy of trojaned images 5.5327717518594e-10\n"
          ],
          "name": "stdout"
        }
      ]
    },
    {
      "cell_type": "code",
      "metadata": {
        "id": "sKnwcC3bEXWv",
        "colab_type": "code",
        "colab": {}
      },
      "source": [
        ""
      ],
      "execution_count": 0,
      "outputs": []
    }
  ]
}